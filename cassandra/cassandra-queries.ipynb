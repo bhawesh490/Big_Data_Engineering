{
 "cells": [
  {
   "cell_type": "code",
   "execution_count": 1,
   "id": "d4637084",
   "metadata": {},
   "outputs": [
    {
     "name": "stdout",
     "output_type": "stream",
     "text": [
      "Collecting cassandra-driver\n",
      "  Downloading cassandra_driver-3.25.0-cp37-cp37m-win_amd64.whl (2.7 MB)\n",
      "     ---------------------------------------- 2.7/2.7 MB 4.4 MB/s eta 0:00:00\n",
      "Collecting geomet<0.3,>=0.1\n",
      "  Downloading geomet-0.2.1.post1-py3-none-any.whl (18 kB)\n",
      "Requirement already satisfied: six>=1.9 in c:\\users\\bhawe\\appdata\\local\\packages\\pythonsoftwarefoundation.python.3.7_qbz5n2kfra8p0\\localcache\\local-packages\\python37\\site-packages (from cassandra-driver) (1.16.0)\n",
      "Collecting click\n",
      "  Using cached click-8.1.3-py3-none-any.whl (96 kB)\n",
      "Requirement already satisfied: colorama in c:\\users\\bhawe\\appdata\\local\\packages\\pythonsoftwarefoundation.python.3.7_qbz5n2kfra8p0\\localcache\\local-packages\\python37\\site-packages (from click->geomet<0.3,>=0.1->cassandra-driver) (0.4.6)\n",
      "Requirement already satisfied: importlib-metadata in c:\\users\\bhawe\\appdata\\local\\packages\\pythonsoftwarefoundation.python.3.7_qbz5n2kfra8p0\\localcache\\local-packages\\python37\\site-packages (from click->geomet<0.3,>=0.1->cassandra-driver) (6.1.0)\n",
      "Requirement already satisfied: zipp>=0.5 in c:\\users\\bhawe\\appdata\\local\\packages\\pythonsoftwarefoundation.python.3.7_qbz5n2kfra8p0\\localcache\\local-packages\\python37\\site-packages (from importlib-metadata->click->geomet<0.3,>=0.1->cassandra-driver) (3.15.0)\n",
      "Requirement already satisfied: typing-extensions>=3.6.4 in c:\\users\\bhawe\\appdata\\local\\packages\\pythonsoftwarefoundation.python.3.7_qbz5n2kfra8p0\\localcache\\local-packages\\python37\\site-packages (from importlib-metadata->click->geomet<0.3,>=0.1->cassandra-driver) (4.5.0)\n",
      "Installing collected packages: click, geomet, cassandra-driver\n",
      "Successfully installed cassandra-driver-3.25.0 click-8.1.3 geomet-0.2.1.post1\n",
      "Note: you may need to restart the kernel to use updated packages.\n"
     ]
    }
   ],
   "source": [
    "pip install cassandra-driver\n"
   ]
  },
  {
   "cell_type": "code",
   "execution_count": 2,
   "id": "eaab7502",
   "metadata": {},
   "outputs": [],
   "source": [
    "import cassandra"
   ]
  },
  {
   "cell_type": "code",
   "execution_count": 3,
   "id": "6e47e84b",
   "metadata": {},
   "outputs": [
    {
     "name": "stdout",
     "output_type": "stream",
     "text": [
      "3.25.0\n"
     ]
    }
   ],
   "source": [
    "print (cassandra.__version__)"
   ]
  },
  {
   "cell_type": "code",
   "execution_count": 10,
   "id": "072dc7a9",
   "metadata": {},
   "outputs": [
    {
     "name": "stdout",
     "output_type": "stream",
     "text": [
      "4.0.0.6816\n"
     ]
    }
   ],
   "source": [
    "from cassandra.cluster import Cluster\n",
    "from cassandra.auth import PlainTextAuthProvider\n",
    "\n",
    "cloud_config= {\n",
    "  'secure_connect_bundle': 'C:/Users/bhawe/Downloads/secure-connect-cassandra-practice.zip'\n",
    "}\n",
    "\n",
    "auth_provider = PlainTextAuthProvider('TDUQvQLUJgKxZjEhukpmEtDt', '5NNk3QZ.x460-1m29k98IefY_cfFlpR.Mp99.bt4Jft4eg8Pyy7SBmWNn4zo1zdDRQCnvXcK1tMYPD5adP+d7fAg_AZ83cifBnDZlo.cA7_5R,Zeb8rYqQyeMCZoj_6l')\n",
    "cluster = Cluster(cloud=cloud_config, auth_provider=auth_provider)\n",
    "session = cluster.connect()\n",
    "\n",
    "# Querying the internal metadata of the cassandra table and printing the first row\n",
    "row = session.execute(\"select release_version from system.local\").one()\n",
    "\n",
    "if row:\n",
    "  print(row[0])\n",
    "else:\n",
    "  print(\"An error occurred.\")"
   ]
  },
  {
   "cell_type": "code",
   "execution_count": 35,
   "id": "aa7f8285",
   "metadata": {},
   "outputs": [
    {
     "name": "stdout",
     "output_type": "stream",
     "text": [
      "inside the employee_keyspace\n"
     ]
    }
   ],
   "source": [
    "# command to use keyspace\n",
    "\n",
    "try:\n",
    "    query='use employee_keyspace'\n",
    "    print (\"inside the employee_keyspace\")\n",
    "    \n",
    "#     similar to use database in mysql\n",
    "\n",
    "\n",
    "except Exception as err:\n",
    "    print (\"Exception Occurred while using Keyspace: \",err)\n",
    "\n"
   ]
  },
  {
   "cell_type": "code",
   "execution_count": 25,
   "id": "784b3348",
   "metadata": {},
   "outputs": [
    {
     "name": "stdout",
     "output_type": "stream",
     "text": [
      "Table created inside keyspace\n"
     ]
    }
   ],
   "source": [
    "# command to create a table inside the keyspace\n",
    "try:\n",
    "    query=\"\"\"\n",
    "    create table employee_keyspace.employee(\n",
    "    emp_id int,\n",
    "    emp_name varchar,\n",
    "    emp_salary int,\n",
    "    emp_dept varchar,\n",
    "    emp_email varchar,\n",
    "    emp_phone varchar,\n",
    "    primary key (emp_id,emp_dept)\n",
    "    )\n",
    "    \"\"\"\n",
    "#     emp_id is the parition key emp_dept is the clustering key\n",
    "    \n",
    "    session.execute(query)\n",
    "    print (\"Table created inside keyspace\")\n",
    "\n",
    "except Exception as err:\n",
    "    print (\"Exception occurred while creating the table: \",err)\n",
    "    \n"
   ]
  },
  {
   "cell_type": "code",
   "execution_count": 22,
   "id": "74a58a5b",
   "metadata": {},
   "outputs": [
    {
     "name": "stdout",
     "output_type": "stream",
     "text": [
      "Column dropped successfully!!\n"
     ]
    }
   ],
   "source": [
    "# alter the table in cassandra to drop a  column\n",
    "\n",
    "try:\n",
    "    query='''alter table employee_keyspace.employee drop emp_email'''\n",
    "    session.execute(query)\n",
    "    print(\"Column dropped successfully!!\")\n",
    "    \n",
    "except Exception as err:\n",
    "    print (\"Exception Occurred while dropping the column\", err)\n",
    "    \n"
   ]
  },
  {
   "cell_type": "code",
   "execution_count": 23,
   "id": "9eb11497",
   "metadata": {},
   "outputs": [
    {
     "name": "stdout",
     "output_type": "stream",
     "text": [
      "Column added successfully!!\n"
     ]
    }
   ],
   "source": [
    "#alter the table in cassandra to add a new column\n",
    "try:\n",
    "    query='''alter table employee_keyspace.employee add emp_email text'''\n",
    "    session.execute(query)\n",
    "    print(\"Column added successfully!!\")\n",
    "    \n",
    "except Exception as err:\n",
    "    print (\"Exception Occurred while adding the column\", err)\n",
    "\n"
   ]
  },
  {
   "cell_type": "code",
   "execution_count": 24,
   "id": "6e9d44d4",
   "metadata": {},
   "outputs": [
    {
     "name": "stdout",
     "output_type": "stream",
     "text": [
      "Table dropped successfully!!\n"
     ]
    }
   ],
   "source": [
    "# drop the table in cassandra\n",
    "try:\n",
    "    query='''drop table employee_keyspace.employee'''\n",
    "    session.execute(query)\n",
    "    print(\"Table dropped successfully!!\")\n",
    "    \n",
    "except Exception as err:\n",
    "    print (\"Exception Occurred while dropping the table\", err)\n",
    "\n"
   ]
  },
  {
   "cell_type": "code",
   "execution_count": 26,
   "id": "ccd19a9b",
   "metadata": {},
   "outputs": [
    {
     "name": "stdout",
     "output_type": "stream",
     "text": [
      "Record inserted successfully !!\n"
     ]
    }
   ],
   "source": [
    "# insert the data into cassandra table\n",
    "try:\n",
    "    query = \"insert into employee_keyspace.employee(emp_id, emp_name, emp_salary, emp_dept, emp_email, emp_phone) values(1, 'Shashank', 10000, 'Software', 'abc.gmail.com','+91 768467474')\"\n",
    "    session.execute(query)\n",
    "    print(\"Record inserted successfully !!\")\n",
    "except Exception as err:\n",
    "    print(\"Exception Occured while inserting the data into table: \",err)\n"
   ]
  },
  {
   "cell_type": "code",
   "execution_count": 28,
   "id": "55c8c453",
   "metadata": {},
   "outputs": [
    {
     "name": "stdout",
     "output_type": "stream",
     "text": [
      "Record inserted successfully !!\n"
     ]
    }
   ],
   "source": [
    "# Insert data into cassandra table\n",
    "try:\n",
    "    query = \"insert into employee_keyspace.employee(emp_id, emp_name, emp_salary, emp_dept, emp_email, emp_phone) values(2, 'Rahul', 20000, 'IT', 'xyx.gmail.com','+91 908467474')\"\n",
    "    session.execute(query)\n",
    "    print(\"Record inserted successfully !!\")\n",
    "except Exception as err:\n",
    "    print(\"Exception Occured while inserting the data into table: \",err)"
   ]
  },
  {
   "cell_type": "code",
   "execution_count": 30,
   "id": "0f911039",
   "metadata": {},
   "outputs": [
    {
     "name": "stdout",
     "output_type": "stream",
     "text": [
      "Record inserted successfully !!\n"
     ]
    }
   ],
   "source": [
    "# Insert data into cassandra table\n",
    "try:\n",
    "    query = \"insert into employee_keyspace.employee(emp_id, emp_name, emp_salary, emp_dept, emp_email, emp_phone) values(3, 'Sunny', 22000, 'HR', 'klm.gmail.com','+91 800067474')\"\n",
    "    session.execute(query)\n",
    "    print(\"Record inserted successfully !!\")\n",
    "except Exception as err:\n",
    "    print(\"Exception Occured while inserting the data into table: \",err)\n"
   ]
  },
  {
   "cell_type": "code",
   "execution_count": 31,
   "id": "1045d636",
   "metadata": {},
   "outputs": [
    {
     "name": "stdout",
     "output_type": "stream",
     "text": [
      "Record inserted successfully !!\n"
     ]
    }
   ],
   "source": [
    "# Insert data into cassandra table\n",
    "try:\n",
    "    query = \"insert into employee_keyspace.employee(emp_id, emp_name, emp_salary, emp_dept, emp_email, emp_phone) values(4, 'Vishal', 30000, 'Software', 'mno.gmail.com','+91 600467474')\"\n",
    "    session.execute(query)\n",
    "    print(\"Record inserted successfully !!\")\n",
    "except Exception as err:\n",
    "    print(\"Exception Occured while inserting the data into table: \",err)"
   ]
  },
  {
   "cell_type": "code",
   "execution_count": 37,
   "id": "70efcccb",
   "metadata": {},
   "outputs": [
    {
     "name": "stdout",
     "output_type": "stream",
     "text": [
      "Row(emp_id=1, emp_dept='Software', emp_email='abc.gmail.com', emp_name='Shashank', emp_phone='+91 768467474', emp_salary=10000)\n",
      "Row(emp_id=2, emp_dept='IT', emp_email='xyx.gmail.com', emp_name='Rahul', emp_phone='+91 908467474', emp_salary=20000)\n",
      "Row(emp_id=4, emp_dept='Software', emp_email='mno.gmail.com', emp_name='Vishal', emp_phone='+91 600467474', emp_salary=30000)\n",
      "Row(emp_id=3, emp_dept='HR', emp_email='klm.gmail.com', emp_name='Sunny', emp_phone='+91 800067474', emp_salary=22000)\n"
     ]
    }
   ],
   "source": [
    "try:\n",
    "    query = \"select * from employee_keyspace.employee\"\n",
    "    result = session.execute(query)\n",
    "    for row in result:\n",
    "        print(row)\n",
    "except Exception as err:\n",
    "    print(\"Exception Occured while selecting the data from table: \",err)\n"
   ]
  },
  {
   "cell_type": "code",
   "execution_count": 38,
   "id": "5495b2d2",
   "metadata": {},
   "outputs": [
    {
     "name": "stdout",
     "output_type": "stream",
     "text": [
      "Row(emp_id=1, emp_name='Shashank')\n",
      "Row(emp_id=2, emp_name='Rahul')\n",
      "Row(emp_id=4, emp_name='Vishal')\n",
      "Row(emp_id=3, emp_name='Sunny')\n"
     ]
    }
   ],
   "source": [
    "# Select query for specific columns in cassandra table\n",
    "try:\n",
    "    query = \"select emp_id, emp_name from employee_keyspace.employee\"\n",
    "    result = session.execute(query)\n",
    "    for row in result:\n",
    "        print(row)\n",
    "except Exception as err:\n",
    "    print(\"Exception Occured while selecting the data from table: \",err)\n"
   ]
  },
  {
   "cell_type": "code",
   "execution_count": 55,
   "id": "470d6355",
   "metadata": {},
   "outputs": [
    {
     "name": "stdout",
     "output_type": "stream",
     "text": [
      "Row(emp_id=1, emp_name='Shashank')\n",
      "Row(emp_id=1, emp_name='Shashank')\n",
      "Emp ID :  1\n",
      "Emp Name :  Shashank\n",
      "Row(emp_id=2, emp_name='Rahul')\n",
      "Emp ID :  2\n",
      "Emp Name :  Rahul\n",
      "Row(emp_id=4, emp_name='Vishal')\n",
      "Emp ID :  4\n",
      "Emp Name :  Vishal\n",
      "Row(emp_id=3, emp_name='Sunny')\n",
      "Emp ID :  3\n",
      "Emp Name :  Sunny\n"
     ]
    }
   ],
   "source": [
    "# Select query for specific columns in cassandra table and how to access from Row object\n",
    "try:\n",
    "    query = \"select emp_id, emp_name from employee_keyspace.employee\"\n",
    "    result = session.execute(query)\n",
    "    row=result.one()\n",
    "    print (row)\n",
    "\n",
    "    # option 1\n",
    "    for row in result:\n",
    "        print (row)\n",
    "        print(\"Emp ID : \", row[0])\n",
    "        print(\"Emp Name : \", row[1])\n",
    "except Exception as err:\n",
    "    print(\"Exception Occured while selecting the data from table: \",err)\n"
   ]
  },
  {
   "cell_type": "code",
   "execution_count": 42,
   "id": "f4d459a7",
   "metadata": {},
   "outputs": [
    {
     "name": "stdout",
     "output_type": "stream",
     "text": [
      "Exception Occured while selecting the data from table:  cannot convert dictionary update sequence element #0 to a sequence\n"
     ]
    }
   ],
   "source": [
    "# Select query for specific columns in cassandra table and how to access from Row object\n",
    "# Doesn't work\n",
    "try:\n",
    "    query = \"select emp_id, emp_name from employee_keyspace.employee\"\n",
    "    result = session.execute(query)\n",
    "    # option 2\n",
    "    for row in result:\n",
    "        row = dict(row)\n",
    "        print(row)\n",
    "        print(\"Emp ID : \", row['emp_id'])\n",
    "        print(\"Emp Name : \", row['emp_name'])\n",
    "except Exception as err:\n",
    "    print(\"Exception Occured while selecting the data from table: \",err)\n"
   ]
  },
  {
   "cell_type": "code",
   "execution_count": 48,
   "id": "041e4ca8",
   "metadata": {},
   "outputs": [
    {
     "name": "stdout",
     "output_type": "stream",
     "text": [
      "Row(count=4)\n",
      "4\n"
     ]
    }
   ],
   "source": [
    "# Write a query to get total count of employees\n",
    "try:\n",
    "    query = \"select count(*) from employee_keyspace.employee\"\n",
    "    result = session.execute(query)\n",
    "    row = result.one()\n",
    "    print(row)\n",
    "    print(row[0])\n",
    "except Exception as err:\n",
    "    print(\"Exception Occured while selecting the data from table: \",err)\n"
   ]
  },
  {
   "cell_type": "code",
   "execution_count": 56,
   "id": "869eb997",
   "metadata": {},
   "outputs": [
    {
     "name": "stdout",
     "output_type": "stream",
     "text": [
      "30000\n"
     ]
    }
   ],
   "source": [
    "# Write a query to find maximum salary from employee table\n",
    "try:\n",
    "    query = \"select max(emp_salary) as max_salary from employee_keyspace.employee\"\n",
    "    result = session.execute(query)\n",
    "    row = result.one()\n",
    "    #print(row)\n",
    "    print(row[0])\n",
    "except Exception as err:\n",
    "    print(\"Exception Occured while selecting the data from table: \",err)\n"
   ]
  },
  {
   "cell_type": "code",
   "execution_count": 57,
   "id": "03705233",
   "metadata": {},
   "outputs": [
    {
     "name": "stdout",
     "output_type": "stream",
     "text": [
      "Row(emp_id=1, emp_dept='Software', emp_email='abc.gmail.com', emp_name='Shashank', emp_phone='+91 768467474', emp_salary=10000)\n"
     ]
    }
   ],
   "source": [
    "# Write a query to filter data from cassandra table or how to use where clause\n",
    "# Rules for where clause - It can be used effectively with high performance for given below type of columns\n",
    "# 1.) Partition Key (Single or Composite)\n",
    "                   #OR\n",
    "# 2.) if Cluster column  used in where clause then it should be with Partition Key\n",
    "                   #OR\n",
    "# 3.) A column on which we have applied the index\n",
    "                   #OR\n",
    "# 4.) A column which is not part of partition key or index column or clustering column then we can use where clause but we have to\n",
    "# use keyword ALLOW FILTERING - it will be a super slow performance when data volume is very high\n",
    "\n",
    "try:\n",
    "    query = \"select * from employee_keyspace.employee where emp_name='Shashank' ALLOW FILTERING\"\n",
    "    result = session.execute(query)\n",
    "    row = result.one()\n",
    "    print(row)\n",
    "except Exception as err:\n",
    "    print(\"Exception Occured while selecting the data from table: \",err)\n"
   ]
  },
  {
   "cell_type": "code",
   "execution_count": 58,
   "id": "d08b1ab0",
   "metadata": {},
   "outputs": [
    {
     "name": "stdout",
     "output_type": "stream",
     "text": [
      "Row(emp_id=2, emp_dept='IT', emp_email='xyx.gmail.com', emp_name='Rahul', emp_phone='+91 908467474', emp_salary=20000)\n"
     ]
    }
   ],
   "source": [
    "# where clause for Partition key only or Rule no -1\n",
    "\n",
    "try:\n",
    "    query = \"select * from employee_keyspace.employee where emp_id=2\"\n",
    "    result = session.execute(query)\n",
    "    row = result.one()\n",
    "    print(row)\n",
    "except Exception as err:\n",
    "    print(\"Exception Occured while selecting the data from table: \",err)\n"
   ]
  },
  {
   "cell_type": "code",
   "execution_count": 59,
   "id": "fdfcf0d7",
   "metadata": {},
   "outputs": [
    {
     "name": "stdout",
     "output_type": "stream",
     "text": [
      "Row(emp_id=1, emp_dept='Software', emp_email='abc.gmail.com', emp_name='Shashank', emp_phone='+91 768467474', emp_salary=10000)\n"
     ]
    }
   ],
   "source": [
    "# where clause for Clustering key only or Rule no - 2 \n",
    "\n",
    "try:\n",
    "    query = \"select * from employee_keyspace.employee where emp_dept='Software' and emp_id=1\"\n",
    "    result = session.execute(query)\n",
    "    row = result.one()\n",
    "    print(row)\n",
    "except Exception as err:\n",
    "    print(\"Exception Occured while selecting the data from table: \",err)\n"
   ]
  },
  {
   "cell_type": "code",
   "execution_count": null,
   "id": "f55425b8",
   "metadata": {},
   "outputs": [],
   "source": [
    "# We have another composite partition key\n",
    "\n",
    "priamry key ( (employeeid, fname) , dept )\n",
    "\n",
    "select * from employee where employeeid = 'x' and dept = 'software' and fname = 'shashank'  # Wrong query\n",
    "\n",
    "select * from employee where dept = 'software' and employeeid = 'x' and fname = 'shashank'   # Correct query\n"
   ]
  },
  {
   "cell_type": "code",
   "execution_count": 61,
   "id": "49d1016a",
   "metadata": {},
   "outputs": [
    {
     "name": "stdout",
     "output_type": "stream",
     "text": [
      "Emp ID :  1\n",
      "Sum Of Salary :  10000\n",
      "Emp ID :  2\n",
      "Sum Of Salary :  20000\n",
      "Emp ID :  4\n",
      "Sum Of Salary :  30000\n",
      "Emp ID :  3\n",
      "Sum Of Salary :  22000\n"
     ]
    }
   ],
   "source": [
    "# Group by in cassandra  -  Allowed for all columns which are part of Primary Key\n",
    "# Follow given below rules\n",
    "# Rule - 1 : Use only partition key in the group by\n",
    "              #OR\n",
    "# Rule - 2 : if Cluster key column is used then follow the actual declared sequence in the primary key\n",
    "try:\n",
    "    query = \"select emp_id, sum(emp_salary) as sum_salary from employee_keyspace.employee group by emp_id\"\n",
    "    result = session.execute(query)\n",
    "    row = result.one()\n",
    "    for row in result:\n",
    "        print(\"Emp ID : \", row[0])\n",
    "        print(\"Sum Of Salary : \", row[1])\n",
    "except Exception as err:\n",
    "    print(\"Exception Occured while selecting the data from table: \",err)\n"
   ]
  },
  {
   "cell_type": "code",
   "execution_count": 62,
   "id": "b6e5a7da",
   "metadata": {},
   "outputs": [
    {
     "name": "stdout",
     "output_type": "stream",
     "text": [
      "Emp ID :  1\n",
      "Emp Dept :  Software\n",
      "Sum Of Salary :  10000\n",
      "Emp ID :  2\n",
      "Emp Dept :  IT\n",
      "Sum Of Salary :  20000\n",
      "Emp ID :  4\n",
      "Emp Dept :  Software\n",
      "Sum Of Salary :  30000\n",
      "Emp ID :  3\n",
      "Emp Dept :  HR\n",
      "Sum Of Salary :  22000\n"
     ]
    }
   ],
   "source": [
    "# Group by in cassandra \n",
    "# Rule - 2 : if Cluster key column is used then follow the actual declared sequence in the primary key\n",
    "try:\n",
    "    query = \"select emp_id, emp_dept, sum(emp_salary) as sum_salary from employee_keyspace.employee group by emp_id, emp_dept\"\n",
    "    result = session.execute(query)\n",
    "    row = result.one()\n",
    "    for row in result:\n",
    "        print(\"Emp ID : \", row[0])\n",
    "        print(\"Emp Dept : \", row[1])\n",
    "        print(\"Sum Of Salary : \", row[2])\n",
    "except Exception as err:\n",
    "    print(\"Exception Occured while selecting the data from table: \",err)\n"
   ]
  },
  {
   "cell_type": "code",
   "execution_count": null,
   "id": "ae91ef74",
   "metadata": {},
   "outputs": [],
   "source": [
    "Primary Key (PK, CK1, CK2)\n",
    "\n",
    "Group By PK, CK1, CK2 ??? Pass\n",
    "\n",
    "Group By PK, CK2, CK1 ??? Fail"
   ]
  }
 ],
 "metadata": {
  "kernelspec": {
   "display_name": "Python 3 (ipykernel)",
   "language": "python",
   "name": "python3"
  },
  "language_info": {
   "codemirror_mode": {
    "name": "ipython",
    "version": 3
   },
   "file_extension": ".py",
   "mimetype": "text/x-python",
   "name": "python",
   "nbconvert_exporter": "python",
   "pygments_lexer": "ipython3",
   "version": "3.7.9"
  }
 },
 "nbformat": 4,
 "nbformat_minor": 5
}
