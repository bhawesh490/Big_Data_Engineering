{
 "cells": [
  {
   "attachments": {},
   "cell_type": "markdown",
   "metadata": {},
   "source": [
    "Q1. How do you load a CSV file into a Pandas DataFrame?\n",
    "A1.Lets assume we have a csv file name bhawesh.csv\n",
    "import pandas as pd\n",
    "df = pd.read_csv('bhawesh.csv')\n",
    "print(df.to_string()) \n",
    "\n"
   ]
  }
 ],
 "metadata": {
  "kernelspec": {
   "display_name": "Python 3",
   "language": "python",
   "name": "python3"
  },
  "language_info": {
   "name": "python",
   "version": "3.7.9 (tags/v3.7.9:13c94747c7, Aug 17 2020, 16:30:00) [MSC v.1900 64 bit (AMD64)]"
  },
  "orig_nbformat": 4,
  "vscode": {
   "interpreter": {
    "hash": "5f9425dff2f1945e5b411f90fabb8156d487e74a7fa7ff60e205c800fdb615c8"
   }
  }
 },
 "nbformat": 4,
 "nbformat_minor": 2
}
