{
 "cells": [
  {
   "cell_type": "markdown",
   "metadata": {},
   "source": [
    "Q1.Why do we call Python as a general purpose and high-level programming language?\n",
    "A1.Python is called general purpose and high level programming langauge because \n",
    "    1-its easy to code and understand.\n",
    "    2-low level languages are more closer to machine codes(0,1,binary codes) while high level languages are more closer to general human communication language[English in this case].\n",
    "    3-Codes are easily readable to others so its a general purpose language\n",
    "    4-It is portable means it can run on any system including Windows,Mac,Linux.\n",
    "    5-Supports Development in Aritifical Intelligence.\n",
    "    6-Codes Written in General English are converted to Machine Language[Binary Codes] \n",
    "      using Interpretter and Complier hence no need of processor.\n",
    "    7-Because of the above stated reason Python is a general and High Level Language."
   ]
  },
  {
   "cell_type": "markdown",
   "metadata": {},
   "source": [
    "Q2. Why is Python called a dynamically typed language?\n",
    "A2. Python is called Dynamically typed langauage because we dont have to define type of variable while assigning any variable.\n",
    "it takes care of the type of variable.\n",
    "example:\n",
    "in other langauges when have to define type as \n",
    "var a=10:\n",
    "var b=20 \n",
    "but in python we can simply define variables as \n",
    "a=10\n",
    "b=20 etc"
   ]
  },
  {
   "cell_type": "markdown",
   "metadata": {},
   "source": [
    "Q3. List some pros and cons of Python programming language?\n",
    "A3.Pros\n",
    "1-Easy to understand and code\n",
    "2-Dynamic type language\n",
    "3-it have many libraries like pandas which can be used in data analysis\n",
    "4-its higly scalable/Instagram,facebook and pinterest are use the power of python\n",
    "5-Extensively used in Artificial Intelligence,Machine Learning,future technologies like Internet of things[IOT] etc\n",
    "6-its portable means it can run on any system[WORA-Write Once and Run Anywhere]\n",
    "Cons \n",
    "1-it is slow compared to other non-complied langauges and requires lot of computational power\n",
    "2-comes with high memory usages and high memory consumption\n",
    "3-its uses reference counting and garbage collection\n",
    "4-Multithreading in python\n"
   ]
  },
  {
   "cell_type": "markdown",
   "metadata": {},
   "source": [
    "Q4. In what all domains can we use Python?\n",
    "A4.Domains where Python can be used:\n",
    "1-Data analysis and Data Science\n",
    "Data Collection and Cleaning \n",
    "Data Exploration\n",
    "Data Modelling \n",
    "Data Visualization \n",
    "\n",
    "2-Machine Learning and Artificial Intelligence \n",
    "3-Deep Learning Frameworks like Caffe,Tensorflow,PyTorch,Keras\n",
    "2-Automations \n",
    "3-Web Scraping\n",
    "Scrapy and Beautiful Soup \n",
    "4-Distributed Processing \n",
    "PySpark\n",
    "Dask \n",
    "5-Finance\n",
    "Fraud Detection\n",
    "risk analytics\n",
    "credit scoring \n",
    "6-Big Data \n",
    "7-Data Engineering \n",
    "8-Job Scheduling with Airflow \n",
    "9-Natural Language Processing "
   ]
  },
  {
   "cell_type": "markdown",
   "metadata": {},
   "source": [
    "Q5. What are variable and how can we declare them?\n",
    "A5.Variable in python are memory locations to store values.\n",
    "a variable in python program gives data to the computer for processing.\n",
    "how to declare a variable:\n",
    "a variable in python can be declared by any name or even alphabet like a,aa,abc etc can be used \n",
    "Example:\n",
    "lets understand the concept of datatypes in variables now:\n",
    "data types can be integer,strings,arrays,float,dictionary,list,typles \n",
    "name=\"Bhawesh\" \n",
    "here we have declared a variable called name and assigned value \"Bhawesh\" to it.\n",
    "Note:name variable is of string data types and enclosed in double quotes.\n",
    "now lets declare a int variable:\n",
    "number=10\n",
    "n=10 \n",
    "in the above example we have declared a interger variable called number and assigned 10 to it \n",
    "alternatively we can assign the same value to the variable n \n",
    "Note:\n",
    "variable defining can sometimes be very tricky for developers and it has to be of some sense so that it can be easily understood by other programmers "
   ]
  },
  {
   "cell_type": "markdown",
   "metadata": {},
   "source": [
    "Q6. How can we take an input from the user in Python?\n",
    "A6.we can take input from user in python by defining input()\n",
    "\n",
    "Example 1:\n",
    "name=input(\"Enter Your Name: \")\n",
    "age = input(\"Enter Your Age: \")\n",
    "print(\"Hi \"+name+\" Your age is:\"+str(age))\n",
    "\n",
    "Example 2:\n",
    "number1=input(\"Please enter no.1-\")\n",
    "number2=input(\"Please enter no.2-\")\n",
    "print (\"the sum of two numbers are\",(int(number1)+int(number2)))\n"
   ]
  },
  {
   "cell_type": "markdown",
   "metadata": {},
   "source": [
    "Q7. What is the default datatype of the value that has been taken as an input using input() function?\n",
    "A7.string\n"
   ]
  },
  {
   "cell_type": "markdown",
   "metadata": {},
   "source": [
    "Q8. What is type casting?\n",
    "A8.Type casting refers to the conversion of the datatype \n",
    "lets consider these functions \n",
    "int() refers to the interger conversion\n",
    "float() refers to the float conversions\n",
    "str() refers to the string or text conversion\n",
    "Lets consider below examples:\n",
    "a=10\n",
    "b=10.2\n",
    "c=\"1\"\n",
    "\n",
    "# lets define the below variables:\n",
    "\n",
    "a=10\n",
    "b=10.1\n",
    "c=\"1\"\n",
    "\n",
    "print (\"the type of a is\",type(a))\n",
    "print (\"the type of b is\",type(b))\n",
    "print (\"the type of c is\",type(c))\n",
    "\n",
    "# lets add variable b and c:\n",
    "# d=b+c\n",
    "# print (\"the sum of b and c is:\",d)\n",
    "# here it will give error because we are trying to add b which is float and c which is string \n",
    "# to tackle ths we need to convert c which is looking like integer to integer \n",
    "# so \n",
    "\n",
    "d=b+int(c)\n",
    "print (\"the sum of b and c is: \",d)\n",
    "Important:\n",
    "Here it was possible to add b and c because we have converted c which was string type to interger type \n",
    "this was the case of typecasting"
   ]
  },
  {
   "cell_type": "markdown",
   "metadata": {},
   "source": [
    "Q9. Can we take more than one input from the user using single input() function? If yes, how? If no, why?\n",
    "A9.Yes we can take more than one input from the user using single input() function \n",
    "Example:\n",
    "Taking two inputs at a time \n",
    "x, y = input(\"Enter two values: \").split()\n",
    "print(\"Number of teachers in class: \", x)\n",
    "print(\"Number of students in the class: \", y)\n",
    "print ()\n",
    "Taking three inputs at a time\n",
    "x,y,z=input(\"Enter three values:\").split()\n",
    "print (\"Number of teachers in class: \",x)\n",
    "print (\"Number of girls in the class :\",y)\n",
    "print (\"Number of boys in the class :\",z)\n"
   ]
  },
  {
   "cell_type": "markdown",
   "metadata": {},
   "source": [
    "Q10. What are keywords?\n",
    "A10.Keywords are special words reserved in python \n",
    "we cannot use them in variables \n",
    "As of now in latest version of python 3.8 there are 38 keywords\n",
    "Let us list few of the keywords \n",
    "1-True \n",
    "2-False \n",
    "3-else \n",
    "4-Break,in ,is,lambdaa,global,conditional statements etc \n",
    "Basically all that are used in programming langauges given by python itself are called keywords "
   ]
  },
  {
   "cell_type": "markdown",
   "metadata": {},
   "source": [
    "Q11. Can we use keywords as a variable? Support your answer with reason.\n",
    "A11.No Keywords cannot be used as variable \n",
    "Example:\n",
    "Suppose we define a keyword called if as variable:\n",
    "if=\"bhawesh\"\n",
    "print(if)\n",
    "it will throw error saying invalid syntax \n"
   ]
  },
  {
   "cell_type": "markdown",
   "metadata": {},
   "source": [
    "Q12. What is indentation? What's the use of indentaion in Python?\n",
    "A12.Python used indentation to identify a block of code \n",
    "in other langauge indentation is for readibility purpose only \n",
    "lets us look this with an example:\n",
    "in java script we use curlibraces {} instead on identation \n",
    "Example:\n",
    "if(a==10){\n",
    "\n",
    "  logger.log(\"a is equal to 10)\n",
    "}\n",
    "\n",
    "else{\n",
    "\n",
    "  logger.log(\"a is not equal to 10)\n",
    "\n",
    "}\n",
    "\n",
    "Now the same above code is used in python by way of indentation \n",
    "if a==10:\n",
    "  print (\"a is equal to 10\")\n",
    "else:\n",
    "  print (\"a is not equal to 10\")\n"
   ]
  },
  {
   "cell_type": "markdown",
   "metadata": {},
   "source": [
    "Q13. How can we throw some output in Python?\n",
    "A13.Using Print() function \n",
    "Example:\n",
    "a=10 \n",
    "b=20\n",
    "d=a+b\n",
    "print (\"the sum of a and b is\",d)\n",
    "output will be:\n",
    "the sum of a and b is 30 "
   ]
  },
  {
   "cell_type": "markdown",
   "metadata": {},
   "source": [
    "Q14. What are operators in Python?\n",
    "A14.Operators in Python:\n",
    "Operators in python are used to perform operation in variables and values \n",
    "Example:print (10+5)\n",
    "There are different types of operators in python\n",
    "1-Airthmetic Operators\n",
    "2-Assignment Operators \n",
    "3-Comparison Operatiors \n",
    "4-Logical Operators \n",
    "5-Identiry Operators \n",
    "6-Membership Operators \n",
    "7-Bitwise Operators\n",
    "\n",
    "1-Addition Operators \n",
    "+ Addition 2+3=5\n",
    "- Subtraction 3-2=1\n",
    "* Multiplication 3*2=6\n",
    "/ Division 3/2 =1\n",
    "% Modulus 3%2=1\n",
    "** Exponentiation 3**2=9 \n",
    "// Floor Division 5//3=2\n",
    "\n",
    "2-Assignment Operators \n",
    "=\n",
    "x=2\n",
    "+=\n",
    "x=x+2 or x+=2 \n",
    "-=\n",
    "x=x-2 or x-=2\n",
    "*=\n",
    "x=x*3 or x*=3\n",
    "/=\n",
    "x=x/3 or x/=3\n",
    "%=\n",
    "x=x%3 or x%=3\n",
    "//=\n",
    "x=x//3 or x//=3\n",
    "**=\n",
    "x=x**3 or x**=3\n",
    "\n",
    "3-Python Comparison Operators \n",
    "==\n",
    "!=\n",
    ">\n",
    "<\n",
    ">=\n",
    "\n",
    "the result will be boolean in Comparsion Operations (boolean means Either true or false)\n",
    "Example:\n",
    "3==3 \n",
    "will give true \n",
    "4<3\n",
    "will give false\n",
    "\n",
    "4-Python Logical Operators \n",
    "and Return true if both statment are true \n",
    "or Returen true if one of the statment is true \n",
    "not Reverse the result ,returns false if the result is true \n",
    "\n",
    "5-Python Identity Operators \n",
    "is Returns True if both the variables are same object \n",
    "Example x is y \n",
    "is not Returns True if both variables are not the same object \n",
    "Example x is not y \n",
    "\n",
    "6-Python Membership Operators \n",
    "in Returns True if a sequence with the specified value is present in the object\n",
    "not in Returns True if a sequence with the specified value is not present in the object\n",
    "\n",
    "7-Python Bit Wise Operators \n",
    "these are used to compare binary numbers \n",
    "& (AND) Sets each bit to 1 if both bits are 1 \n",
    "| (OR) Sets ech bit to 1 if one of the two bits is 1\n"
   ]
  },
  {
   "cell_type": "markdown",
   "metadata": {},
   "source": [
    "Q15. What is difference between / and // operators?\n",
    "A15.Both are arithemetic operators \n",
    "/ Means Division \n",
    "// Means floor division which gives only interger part of division not the decimal part \n",
    "\n",
    "Example:\n",
    "print (3/2)\n",
    "Result:1.5\n",
    "print (5//3)\n",
    "Result:1"
   ]
  },
  {
   "cell_type": "markdown",
   "metadata": {},
   "source": [
    "Q16. Write a code that gives following as an output.\n",
    "```\n",
    "iNeuroniNeuroniNeuroniNeuron\n",
    "----\n",
    "A16.\n",
    "a=\"iNeuron\"\n",
    "b=a*3\n",
    "print (b)"
   ]
  },
  {
   "cell_type": "markdown",
   "metadata": {},
   "source": [
    "Q17. Write a code to take a number as an input from the user and check if the number is odd or even.\n",
    "A17.\n",
    "a=int(input(\"Please enter the no. to check \"))\n",
    "if a%2==0:\n",
    "    print (a,\" is even number\")\n",
    "else:\n",
    "    print (a,\"is odd number\")"
   ]
  },
  {
   "cell_type": "markdown",
   "metadata": {},
   "source": [
    "Q18. What are boolean operator?\n",
    "A18.The logical operators and, or and not are also referred to as boolean operators.\n",
    "While and as well as or operator needs two operands,which may evaluate to true or false, not operator needs one operand evaluating to true or false.\n",
    "Boolean and operator returns true if both operands return true.\n",
    "Examples:\n",
    ">>> a=10\n",
    ">>> b=15\n",
    ">>> a>40 and b>40\n",
    "False\n",
    ">>> a>100 and b<50\n",
    "False\n",
    ">>> a==0 and b==0\n",
    "False\n",
    ">>> a>0 and b>0\n",
    "True [Because both the values are greater than 0]\n",
    "\n",
    "Example of Boolean OR\n",
    ">>> a=10\n",
    ">>> b=15\n",
    ">>> a>30 or b>5\n",
    "True\n",
    ">>> a>100 or b<50\n",
    "True\n",
    ">>> a==0 or b==0\n",
    "False\n",
    ">>> a>0 or b>0\n",
    "True\n",
    "\n",
    "Example:\n",
    "The not operator returns true if its operand is a false expression and returns false if it is true.\n",
    ">>> a=10\n",
    ">>> a>10\n",
    "False\n",
    ">>> not(a>10)\n",
    "True"
   ]
  },
  {
   "cell_type": "markdown",
   "metadata": {},
   "source": [
    "Q19. What will the output of the following?\n",
    "```\n",
    "1 or 0\n",
    "\n",
    "0 and 0\n",
    "\n",
    "True and False and True\n",
    "\n",
    "1 or 0 or 0\n",
    "```\n",
    "A19.\n",
    "1 or 0 = 1\n",
    "\n",
    "0 and 0 = 0\n",
    "\n",
    "True and False and True=False\n",
    "\n",
    "1 or 0 or 0=1\n"
   ]
  },
  {
   "cell_type": "markdown",
   "metadata": {},
   "source": [
    "Q20. What are conditional statements in Python?\n",
    "A20.\n",
    "Python supports these Logical Operators \n",
    "Equals: x == y\n",
    "Not Equals: x != y\n",
    "Less than: x < y\n",
    "Less than or equal to: x <= y\n",
    "Greater than: x > y\n",
    "Greater than or equal to: x >= y\n",
    "These conditions can be used in several ways, most commonly in \n",
    "\"if statements\" and loops.\n",
    "An \"if statement\" is written by using the if keyword.\n",
    "\n",
    "Example\n",
    "If statement:\n",
    "\n",
    "x = 1000\n",
    "y = 999\n",
    "if x > y:\n",
    "  print(\"x is greater than y\")\n",
    "Result:True so it will print x>y\n"
   ]
  },
  {
   "cell_type": "markdown",
   "metadata": {},
   "source": [
    "Q21. What is use of 'if', 'elif' and 'else' keywords?\n",
    "A21.Thease are conditional statment as are used in programming \n",
    "Example:\n",
    "Following Conditions has been given and we have to print statement according to the below conditions \n",
    "age above 80\n",
    "Senior Citizen\n",
    "Age between 60  and 80 \n",
    "Old Aged \n",
    "Age between  30 and 60\n",
    "Mid Aged \n",
    "less than 30 \n",
    "Young\n",
    "age=int(input(\"Enter Your Age\"))\n",
    "\n",
    "if (age>=80):\n",
    "  print (\"Senior Citizen\")\n",
    "elif (age>=60):\n",
    "  print (\"Old Aged\")\n",
    "elif (age >=30)\n",
    "  print (\"Mid Aged\")\n",
    "else:\n",
    "  print (\"Young:)\n"
   ]
  },
  {
   "cell_type": "markdown",
   "metadata": {},
   "source": [
    "Q22. Write a code to take the age of person as an input \n",
    "and if age >= 18 display \"I can vote\". If age is < 18 display \"I can't vote\".\n",
    "A22.\n",
    "age=int(input(\"Enter Your Age\"))\n",
    "if age>=18:\n",
    "  print (\"I Can vote)\n",
    "else:\n",
    "  print (\"I can't vote)\n"
   ]
  },
  {
   "cell_type": "markdown",
   "metadata": {},
   "source": [
    "Q23. Write a code that displays the sum of all the even numbers from the given list.\n",
    "```\n",
    "numbers = [12, 75, 150, 180, 145, 525, 50]\n",
    "\n",
    "```\n",
    "A23.\n",
    "numbers=[12, 75, 150, 180, 145, 525, 50]\n",
    "sum=0\n",
    "for i in numbers:\n",
    "  if (i%2==0):\n",
    "    sum=sum+i\n",
    "\n",
    "print (\"Sum of all Even Numbers is\",sum)\n"
   ]
  },
  {
   "cell_type": "markdown",
   "metadata": {},
   "source": [
    "Q24. Write a code to take 3 numbers as an input from the user and display the greatest no as output.\n",
    "no1=int(input(\"Enter no1: \"))\n",
    "no2=int(input(\"Enter no2: \"))\n",
    "no3=int(input(\"Enter no3: \"))\n",
    "list=[no1,no2,no3]\n",
    "greatest=no1\n",
    "for i in range(1,len(list)):\n",
    "    if list[i]>greatest:\n",
    "        greatest=list[i]\n",
    "\n",
    "print (greatest)"
   ]
  },
  {
   "cell_type": "markdown",
   "metadata": {},
   "source": [
    "Q25. Write a program to display only those numbers from a list that satisfy the following conditions\n",
    "\n",
    "- The number must be divisible by five\n",
    "\n",
    "- If the number is greater than 150, then skip it and move to the next number\n",
    "\n",
    "- If the number is greater than 500, then stop the loop\n",
    "```\n",
    "numbers = [12, 75, 150, 180, 145, 525, 50]\n",
    "```\n",
    "A25.\n",
    "numbers = [12, 75, 150, 180, 145, 525, 50]\n",
    "for i in numbers:\n",
    "    # print (i)\n",
    "    if i>500:\n",
    "        break\n",
    "    elif (i%5==0 and i<150):\n",
    "        print (i)"
   ]
  },
  {
   "cell_type": "markdown",
   "metadata": {},
   "source": [
    "Q26. What is a string? How can we declare string in Python?\n",
    "A26.String are datatypes in python\n",
    "Strings in python are surrounded by either single quotation marks, or double quotation marks.\n",
    "\n",
    "'hello bhawesh' is the same as \"hello bhawesh\".\n",
    " \n",
    " we can declare a string in Python by decalaring a variable and storing value in that variable\n",
    " Example:\n",
    " a=\"Bhawesh is learning Python\"\n",
    " b='bhawesh is learning Python'\n",
    " print (a)\n",
    " print (b)\n"
   ]
  },
  {
   "cell_type": "markdown",
   "metadata": {},
   "source": [
    "Q27. How can we access the string using its index?\n",
    "A27.String indexing in Python is zero-based: \n",
    "the first character in the string has index 0, the next has index 1, and so on. The index of the last character will be the length of the string minus one.\n",
    "Positive String Indexing\n",
    "a= 'Bhawesh'\n",
    "a[0]='B'\n",
    "a[1]='h'\n",
    "a[2]='a'\n",
    "a[3]='w'\n",
    "a[len(a)-1]='h' will give last character of the variable\n",
    "\n",
    "Negative String Indexing\n",
    "\n",
    "String indices can also be specified with negative numbers, in which case indexing occurs from the end of the string backward: -1 refers to the last character, -2 the second-to-last character\n",
    "a='Bhawesh'\n",
    "a[-1]='h'\n",
    "a[-2]='s'\n",
    "a[-len(a)]='B'\n",
    "\n",
    "String Slicing\n",
    "Python also allows a form of indexing syntax that extracts substrings from a string, known as string slicing. If s is a string, an expression of the form s[m:n] returns the portion of s starting with position m, and up to but not including position n:\n",
    "a= 'Bhawesh'\n",
    "print (a[2:5])=awe\n"
   ]
  },
  {
   "cell_type": "code",
   "execution_count": null,
   "metadata": {},
   "outputs": [
    {
     "ename": "",
     "evalue": "",
     "output_type": "error",
     "traceback": [
      "\u001b[1;31mRunning cells with 'Python 3.7.9 64-bit (microsoft store)' requires ipykernel package.\n",
      "\u001b[1;31mRun the following command to install 'ipykernel' into the Python environment. \n",
      "\u001b[1;31mCommand: 'c:/Users/bhawe/AppData/Local/Microsoft/WindowsApps/python3.7.exe -m pip install ipykernel -U --force-reinstall'"
     ]
    }
   ],
   "source": [
    "# Q28. Write a code to get the desired output of the following\n",
    "\n",
    "# string = \"Big Data iNeuron\"\n",
    "# desired_output = \"iNeuron\"\n",
    "\n",
    "string=\"Big Data iNeuron\"\n",
    "desired_output=string[9:16]\n",
    "print (desired_output)"
   ]
  },
  {
   "cell_type": "code",
   "execution_count": null,
   "metadata": {},
   "outputs": [],
   "source": [
    "# Q29. Write a code to get the desired output of the following\n",
    "\n",
    "# string = \"Big Data iNeuron\"\n",
    "# desired_output = \"norueNi\"\n",
    "string=\"Big Data iNeuron\"\n",
    "desired_output=string[-1:-8:-1]\n",
    "print (desired_output)\n"
   ]
  },
  {
   "cell_type": "code",
   "execution_count": null,
   "metadata": {},
   "outputs": [],
   "source": [
    "# Q30. Resverse the string given in the above question.\n",
    "\n",
    "string=\"Big Data iNeuron\"\n",
    "desired_output=string[::-1]\n",
    "print (desired_output)\n"
   ]
  },
  {
   "cell_type": "markdown",
   "metadata": {},
   "source": [
    "Q31. How can you delete entire string at once?\n",
    "A31.teststr='Bhawesh'\n",
    "print(teststr)\n",
    "del teststr \n",
    "print (teststr)\n",
    "\n"
   ]
  },
  {
   "cell_type": "markdown",
   "metadata": {},
   "source": [
    "Q32. What is escape sequence?\n",
    "A32.Escape Sequence is used in strings when we have to use quotes around a string.\n",
    "lets suppose\n",
    "txt = \"My Name is  \"Bhawesh Mehta\" I come from almora uttrakhand \"\n",
    "In the above example if we will print this then there will be error here\n",
    "since we have used double quotes \n",
    "\n",
    "We can avoid this using escape sequence \n",
    "\n",
    "The escape(\"\\\") character allows you to use double quotes when you normally would not be allowed:\n",
    "\n",
    "txt = \"My Name is  \\\"Bhawesh Mehta\\\" I come from almora uttrakhand \"\n",
    "print(txt)\n",
    "Result:My Name is \"Bhawesh Mehta\" I come from almora uttrakhand\n"
   ]
  },
  {
   "cell_type": "code",
   "execution_count": null,
   "metadata": {},
   "outputs": [],
   "source": [
    "# Q33. How can you print the below string?\n",
    "\n",
    "# 'iNeuron's Big Data Course'\n",
    "\n",
    "print(\"'iNeuron's Big Data Course'\")\n"
   ]
  },
  {
   "cell_type": "markdown",
   "metadata": {},
   "source": [
    "Q34. What is a list in Python?\n",
    "A34.List in Python is a type of datatype\n",
    "Example:\n",
    "friends=['bhawesh','Aman','Hardik']\n",
    "The above example is a list datatype where the values are stores in a comma separated format\n",
    "\n",
    "To extact individual elemets we will use indexing method\n",
    "example we have to access bhawesh \n",
    "print(friends[0])='bhawesh'\n",
    "print(friends[1])='Aman'\n",
    "print(friends[2])='Hardik'\n"
   ]
  },
  {
   "cell_type": "markdown",
   "metadata": {},
   "source": [
    "Q35. How can you create a list in Python?\n",
    "A35.list datatype where the values are stored in a comma separated format\n",
    "Lets create a list\n",
    "list_example=[\"Bhawesh\",\"Hello\",\"how are your\"]\n",
    "The Above example store strings in comma separated values in list_example\n",
    "Note:\n",
    "Values in list can be of any type\n",
    "Example:\n",
    "List_example=[\"Bhawesh\",1,2,0.5,0.05,0.43]\n",
    "the above example store values of strings as well as numeric and float datatypes\n",
    "\n"
   ]
  },
  {
   "cell_type": "markdown",
   "metadata": {},
   "source": [
    "Q36. How can we access the elements in a list?\n",
    "A36.To extact individual elemets we will use indexing method\n",
    "Example we have to access bhawesh \n",
    "print(friends[0])='bhawesh'\n",
    "\n",
    "print(friends[1])='Aman'\n",
    "print(friends[2])='Hardik'\n",
    "\n",
    "We can extract elemets in list in a continuous fashion also\n",
    "Example:\n",
    "a=[1,2,3,4,5,6]\n",
    "a[m:n:q]\n",
    "a=[ Initial : End : IndexJump ]\n",
    "m=Initial \n",
    "n=End in exclusive \n",
    "q=IndexJump\n",
    "Note:indexing start from 0\n",
    "print (a[0:4])\n",
    "Answer:1,2,3,4\n",
    "Lets Take an example of steps \n",
    "print (a[0:4:2])\n",
    "Amswer:1,3 (Will give result in steps of 2)\n",
    "\n"
   ]
  },
  {
   "cell_type": "code",
   "execution_count": null,
   "metadata": {},
   "outputs": [],
   "source": [
    "# Q37. Write a code to access the word \"iNeuron\" from the given list.\n",
    "lst = [1,2,3,\"Hi\",[45,54, \"iNeuron\"], \"Big Data\"]\n",
    "print (lst[4][2])"
   ]
  },
  {
   "cell_type": "code",
   "execution_count": null,
   "metadata": {},
   "outputs": [],
   "source": [
    "# Q38. Take a list as an input from the user and find the length of the list.\n",
    "list_data=input(\"Enter elements of list as an input by comma separated values:\")\n",
    "list_data=list_data.split(\",\")\n",
    "print (\"The Length of list_data \",len(list_data))"
   ]
  },
  {
   "cell_type": "code",
   "execution_count": null,
   "metadata": {},
   "outputs": [],
   "source": [
    "# Q39. Add the word \"Big\" in the 3rd index of the given list.\n",
    "\n",
    "lst = [\"Welcome\", \"to\", \"Data\", \"course\"]\n",
    "lst.insert(3,\"Big\")\n",
    "print (lst)\n",
    "\n",
    "\n",
    "\n"
   ]
  },
  {
   "cell_type": "markdown",
   "metadata": {},
   "source": [
    "Q40. What is a tuple? How is it different from list?\n",
    "A40.Tuples are also a sequence data type containing elements of different data types.\n",
    "\n",
    "it is useful when storing a collection of items, especially if you want those items to be unchanging. \n",
    "Immutable Property makes it different from lists \n",
    "Values in tuples are store around round brackets () while in list they are store around square brackets\n",
    "\n",
    "\n",
    "A python tuple has the following features - \n",
    "\n",
    "1-Tuples are used to store heterogeneous and homogeneous data.\n",
    "2-Tuples are immutable in nature.\n",
    "3-Tuples are ordered\n",
    "4-An index is used to traverse a tuple.\n",
    "\n",
    "Note: As tuples are immutable, they are faster than the list because they are static.\n",
    "\n",
    "Example\n",
    "Iamtuple=(2,3,4,5)\n",
    "and i am immutable \n"
   ]
  },
  {
   "cell_type": "markdown",
   "metadata": {},
   "source": [
    "Q41. How can you create a tuple in Python?\n",
    "A41.We can create a tuple by enclosing comma separated values inside round brackets\n",
    "Example:\n",
    "Iamtuple=(1,2,\"bhawesh\",\"Mehta\")\n",
    "print (Iamtuple)\n",
    "Answer:(1,2,\"bhawesh\",\"Mehta\")\n",
    "print (type(Iamtuple))\n",
    "Answer:Tuple Class\n"
   ]
  }
 ],
 "metadata": {
  "kernelspec": {
   "display_name": "Python 3.7.9 64-bit (microsoft store)",
   "language": "python",
   "name": "python3"
  },
  "language_info": {
   "name": "python",
   "version": "3.7.9"
  },
  "orig_nbformat": 4,
  "vscode": {
   "interpreter": {
    "hash": "5f9425dff2f1945e5b411f90fabb8156d487e74a7fa7ff60e205c800fdb615c8"
   }
  }
 },
 "nbformat": 4,
 "nbformat_minor": 2
}
