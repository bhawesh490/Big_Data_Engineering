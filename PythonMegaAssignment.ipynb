{
 "cells": [
  {
   "cell_type": "markdown",
   "metadata": {},
   "source": [
    "Q1.Why do we call Python as a general purpose and high-level programming language?\n",
    "A1.Python is called general purpose and high level programming langauge because \n",
    "    1-its easy to code and understand.\n",
    "    2-low level languages are more closer to machine codes(0,1,binary codes) while high level languages are more closer to general human communication language[English in this case].\n",
    "    3-Codes are easily readable to others so its a general purpose language\n",
    "    4-It is portable means it can run on any system including Windows,Mac,Linux.\n",
    "    5-Supports Development in Aritifical Intelligence.\n",
    "    6-Codes Written in General English are converted to Machine Language[Binary Codes] \n",
    "      using Interpretter and Complier hence no need of processor.\n",
    "    7-Because of the above stated reason Python is a general and High Level Language."
   ]
  },
  {
   "cell_type": "code",
   "execution_count": null,
   "metadata": {},
   "outputs": [],
   "source": []
  },
  {
   "cell_type": "markdown",
   "metadata": {},
   "source": []
  },
  {
   "cell_type": "markdown",
   "metadata": {},
   "source": []
  }
 ],
 "metadata": {
  "kernelspec": {
   "display_name": "Python 3.7.9 64-bit (microsoft store)",
   "language": "python",
   "name": "python3"
  },
  "language_info": {
   "name": "python",
   "version": "3.7.9"
  },
  "orig_nbformat": 4,
  "vscode": {
   "interpreter": {
    "hash": "5f9425dff2f1945e5b411f90fabb8156d487e74a7fa7ff60e205c800fdb615c8"
   }
  }
 },
 "nbformat": 4,
 "nbformat_minor": 2
}
