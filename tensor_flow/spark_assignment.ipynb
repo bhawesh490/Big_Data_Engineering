{
 "cells": [
  {
   "cell_type": "code",
   "execution_count": 1,
   "id": "e3f93141",
   "metadata": {},
   "outputs": [],
   "source": [
    "import pyspark"
   ]
  },
  {
   "cell_type": "code",
   "execution_count": 2,
   "id": "70a1a3a5",
   "metadata": {},
   "outputs": [],
   "source": [
    "import pandas as pd"
   ]
  },
  {
   "cell_type": "code",
   "execution_count": 3,
   "id": "91f60b1c",
   "metadata": {},
   "outputs": [],
   "source": [
    "from pyspark.sql import SparkSession"
   ]
  },
  {
   "cell_type": "code",
   "execution_count": 4,
   "id": "1c550a8a",
   "metadata": {},
   "outputs": [],
   "source": [
    "spark=SparkSession.builder.appName('Practise').getOrCreate()"
   ]
  },
  {
   "cell_type": "code",
   "execution_count": 27,
   "id": "a1b397bb",
   "metadata": {},
   "outputs": [],
   "source": [
    "df_ocr = spark.read.option(\"quote\", \"\\\"\").option(\"escape\", \"\\\"\").load('ocr_input.csv',header=True, format=\"csv\")"
   ]
  },
  {
   "cell_type": "code",
   "execution_count": 28,
   "id": "75cd22fa",
   "metadata": {},
   "outputs": [
    {
     "name": "stdout",
     "output_type": "stream",
     "text": [
      "+--------------------+\n",
      "|               value|\n",
      "+--------------------+\n",
      "|{\"inference_id\":\"...|\n",
      "|{\"inference_id\":\"...|\n",
      "|{\"inference_id\":\"...|\n",
      "|{\"inference_id\":\"...|\n",
      "|{\"inference_id\":\"...|\n",
      "|{\"inference_id\":\"...|\n",
      "|{\"inference_id\":\"...|\n",
      "|{\"inference_id\":\"...|\n",
      "|{\"inference_id\":\"...|\n",
      "|{\"inference_id\":\"...|\n",
      "|{\"inference_id\":\"...|\n",
      "|{\"inference_id\":\"...|\n",
      "|{\"inference_id\":\"...|\n",
      "|{\"inference_id\":\"...|\n",
      "|{\"inference_id\":\"...|\n",
      "|{\"inference_id\":\"...|\n",
      "|{\"inference_id\":\"...|\n",
      "|{\"inference_id\":\"...|\n",
      "|{\"inference_id\":\"...|\n",
      "|{\"inference_id\":\"...|\n",
      "+--------------------+\n",
      "only showing top 20 rows\n",
      "\n"
     ]
    }
   ],
   "source": [
    "df_ocr.show()\n"
   ]
  },
  {
   "cell_type": "code",
   "execution_count": 29,
   "id": "be3e8e89",
   "metadata": {},
   "outputs": [
    {
     "name": "stdout",
     "output_type": "stream",
     "text": [
      "root\n",
      " |-- value: string (nullable = true)\n",
      "\n"
     ]
    }
   ],
   "source": [
    "df_ocr.printSchema()\n"
   ]
  },
  {
   "cell_type": "code",
   "execution_count": 30,
   "id": "5bdb8c1a",
   "metadata": {},
   "outputs": [],
   "source": [
    "import pyspark.sql.types as T\n"
   ]
  },
  {
   "cell_type": "code",
   "execution_count": 31,
   "id": "fb1755d5",
   "metadata": {},
   "outputs": [],
   "source": [
    "schema = T.StructType(\n",
    "  [\n",
    "    T.StructField('inference_id', T.StringType(), True),\n",
    "    T.StructField('actual_subject_name', T.StringType(), True),\n",
    "    T.StructField('meeting_id', T.StringType(), True),\n",
    "    T.StructField('ocr_name', T.StringType(), True),\n",
    "    T.StructField('video_fps', T.StringType(), True),\n",
    "    T.StructField('frame_no', T.StringType(), True)  \n",
    "  ]\n",
    ")\n"
   ]
  },
  {
   "cell_type": "code",
   "execution_count": 32,
   "id": "36971f9a",
   "metadata": {},
   "outputs": [],
   "source": [
    "import pyspark.sql.functions as F"
   ]
  },
  {
   "cell_type": "code",
   "execution_count": 33,
   "id": "2a41c8d2",
   "metadata": {},
   "outputs": [],
   "source": [
    "mapped_df_ocr = df_ocr.withColumn(\"value\", F.from_json(\"value\", schema))\n"
   ]
  },
  {
   "cell_type": "code",
   "execution_count": 34,
   "id": "24f680ea",
   "metadata": {},
   "outputs": [
    {
     "name": "stdout",
     "output_type": "stream",
     "text": [
      "+-----------------------------------------------------------------------------+\n",
      "|value                                                                        |\n",
      "+-----------------------------------------------------------------------------+\n",
      "|{f78dd9f4-beb6-4ab7-bc5f-e43674565c14, Holden, 10131, Holden, 25, 1}         |\n",
      "|{f78dd9f4-beb6-4ab7-bc5f-e43674565c14, Holden, 10131, Holden, 25, 2}         |\n",
      "|{f78dd9f4-beb6-4ab7-bc5f-e43674565c14, Holden, 10131, Holden, 25, 3}         |\n",
      "|{f78dd9f4-beb6-4ab7-bc5f-e43674565c14, Holden, 10131, Holden, 25, 4}         |\n",
      "|{f78dd9f4-beb6-4ab7-bc5f-e43674565c14, Holden, 10131, Senior Partner, 25, 5} |\n",
      "|{f78dd9f4-beb6-4ab7-bc5f-e43674565c14, Holden, 10131, Senior Partner, 25, 6} |\n",
      "|{f78dd9f4-beb6-4ab7-bc5f-e43674565c14, Holden, 10131, Senior Partner, 25, 7} |\n",
      "|{f78dd9f4-beb6-4ab7-bc5f-e43674565c14, Holden, 10131, Senior Partner, 25, 8} |\n",
      "|{f78dd9f4-beb6-4ab7-bc5f-e43674565c14, Holden, 10131, Senior Partner, 25, 9} |\n",
      "|{f78dd9f4-beb6-4ab7-bc5f-e43674565c14, Holden, 10131, Senior Partner, 25, 10}|\n",
      "|{f78dd9f4-beb6-4ab7-bc5f-e43674565c14, Holden, 10131, Senior Partner, 25, 11}|\n",
      "|{f78dd9f4-beb6-4ab7-bc5f-e43674565c14, Holden, 10131, Senior Partner, 25, 12}|\n",
      "|{f78dd9f4-beb6-4ab7-bc5f-e43674565c14, Holden, 10131, Senior Partner, 25, 13}|\n",
      "|{f78dd9f4-beb6-4ab7-bc5f-e43674565c14, Holden, 10131, Senior Partner, 25, 14}|\n",
      "|{f78dd9f4-beb6-4ab7-bc5f-e43674565c14, Holden, 10131, Senior Partner, 25, 15}|\n",
      "|{f78dd9f4-beb6-4ab7-bc5f-e43674565c14, Holden, 10131, Senior Partner, 25, 16}|\n",
      "|{f78dd9f4-beb6-4ab7-bc5f-e43674565c14, Holden, 10131, Senior Partner, 25, 17}|\n",
      "|{f78dd9f4-beb6-4ab7-bc5f-e43674565c14, Holden, 10131, Senior Partner, 25, 18}|\n",
      "|{f78dd9f4-beb6-4ab7-bc5f-e43674565c14, Holden, 10131, Senior Partner, 25, 19}|\n",
      "|{f78dd9f4-beb6-4ab7-bc5f-e43674565c14, Holden, 10131, Senior Partner, 25, 20}|\n",
      "+-----------------------------------------------------------------------------+\n",
      "only showing top 20 rows\n",
      "\n"
     ]
    }
   ],
   "source": [
    "mapped_df_ocr.show(truncate=False)\n"
   ]
  },
  {
   "cell_type": "code",
   "execution_count": 36,
   "id": "2cf32d21",
   "metadata": {},
   "outputs": [],
   "source": [
    "import pyspark.sql.functions as F"
   ]
  },
  {
   "cell_type": "code",
   "execution_count": 39,
   "id": "3988b966",
   "metadata": {},
   "outputs": [
    {
     "name": "stdout",
     "output_type": "stream",
     "text": [
      "+------------------------------------+-------------------+----------+--------------+---------+--------+\n",
      "|inference_id                        |actual_subject_name|meeting_id|ocr_name      |video_fps|frame_no|\n",
      "+------------------------------------+-------------------+----------+--------------+---------+--------+\n",
      "|f78dd9f4-beb6-4ab7-bc5f-e43674565c14|Holden             |10131     |Holden        |25       |1       |\n",
      "|f78dd9f4-beb6-4ab7-bc5f-e43674565c14|Holden             |10131     |Holden        |25       |2       |\n",
      "|f78dd9f4-beb6-4ab7-bc5f-e43674565c14|Holden             |10131     |Holden        |25       |3       |\n",
      "|f78dd9f4-beb6-4ab7-bc5f-e43674565c14|Holden             |10131     |Holden        |25       |4       |\n",
      "|f78dd9f4-beb6-4ab7-bc5f-e43674565c14|Holden             |10131     |Senior Partner|25       |5       |\n",
      "|f78dd9f4-beb6-4ab7-bc5f-e43674565c14|Holden             |10131     |Senior Partner|25       |6       |\n",
      "|f78dd9f4-beb6-4ab7-bc5f-e43674565c14|Holden             |10131     |Senior Partner|25       |7       |\n",
      "|f78dd9f4-beb6-4ab7-bc5f-e43674565c14|Holden             |10131     |Senior Partner|25       |8       |\n",
      "|f78dd9f4-beb6-4ab7-bc5f-e43674565c14|Holden             |10131     |Senior Partner|25       |9       |\n",
      "|f78dd9f4-beb6-4ab7-bc5f-e43674565c14|Holden             |10131     |Senior Partner|25       |10      |\n",
      "|f78dd9f4-beb6-4ab7-bc5f-e43674565c14|Holden             |10131     |Senior Partner|25       |11      |\n",
      "|f78dd9f4-beb6-4ab7-bc5f-e43674565c14|Holden             |10131     |Senior Partner|25       |12      |\n",
      "|f78dd9f4-beb6-4ab7-bc5f-e43674565c14|Holden             |10131     |Senior Partner|25       |13      |\n",
      "|f78dd9f4-beb6-4ab7-bc5f-e43674565c14|Holden             |10131     |Senior Partner|25       |14      |\n",
      "|f78dd9f4-beb6-4ab7-bc5f-e43674565c14|Holden             |10131     |Senior Partner|25       |15      |\n",
      "|f78dd9f4-beb6-4ab7-bc5f-e43674565c14|Holden             |10131     |Senior Partner|25       |16      |\n",
      "|f78dd9f4-beb6-4ab7-bc5f-e43674565c14|Holden             |10131     |Senior Partner|25       |17      |\n",
      "|f78dd9f4-beb6-4ab7-bc5f-e43674565c14|Holden             |10131     |Senior Partner|25       |18      |\n",
      "|f78dd9f4-beb6-4ab7-bc5f-e43674565c14|Holden             |10131     |Senior Partner|25       |19      |\n",
      "|f78dd9f4-beb6-4ab7-bc5f-e43674565c14|Holden             |10131     |Senior Partner|25       |20      |\n",
      "+------------------------------------+-------------------+----------+--------------+---------+--------+\n",
      "only showing top 20 rows\n",
      "\n",
      "root\n",
      " |-- inference_id: string (nullable = true)\n",
      " |-- actual_subject_name: string (nullable = true)\n",
      " |-- meeting_id: string (nullable = true)\n",
      " |-- ocr_name: string (nullable = true)\n",
      " |-- video_fps: string (nullable = true)\n",
      " |-- frame_no: string (nullable = true)\n",
      "\n"
     ]
    }
   ],
   "source": [
    "parsed_df_ocr = mapped_df_ocr.select(F.col(\"value.*\"))\n",
    "parsed_df_ocr.show(truncate=False)\n",
    "parsed_df_ocr.printSchema()\n"
   ]
  },
  {
   "cell_type": "code",
   "execution_count": 40,
   "id": "02fb2417",
   "metadata": {},
   "outputs": [],
   "source": [
    "df_emotions = spark.read.option(\"quote\", \"\\\"\").option(\"escape\", \"\\\"\").load('emotions_input.csv',header=True, format=\"csv\")"
   ]
  },
  {
   "cell_type": "code",
   "execution_count": 42,
   "id": "68d114fb",
   "metadata": {},
   "outputs": [
    {
     "name": "stdout",
     "output_type": "stream",
     "text": [
      "+--------------------+\n",
      "|               value|\n",
      "+--------------------+\n",
      "|{\"inference_id\":\"...|\n",
      "|{\"inference_id\":\"...|\n",
      "|{\"inference_id\":\"...|\n",
      "|{\"inference_id\":\"...|\n",
      "|{\"inference_id\":\"...|\n",
      "|{\"inference_id\":\"...|\n",
      "|{\"inference_id\":\"...|\n",
      "|{\"inference_id\":\"...|\n",
      "|{\"inference_id\":\"...|\n",
      "|{\"inference_id\":\"...|\n",
      "|{\"inference_id\":\"...|\n",
      "|{\"inference_id\":\"...|\n",
      "|{\"inference_id\":\"...|\n",
      "|{\"inference_id\":\"...|\n",
      "|{\"inference_id\":\"...|\n",
      "|{\"inference_id\":\"...|\n",
      "|{\"inference_id\":\"...|\n",
      "|{\"inference_id\":\"...|\n",
      "|{\"inference_id\":\"...|\n",
      "|{\"inference_id\":\"...|\n",
      "+--------------------+\n",
      "only showing top 20 rows\n",
      "\n"
     ]
    }
   ],
   "source": [
    "df_emotions.show()\n"
   ]
  },
  {
   "cell_type": "code",
   "execution_count": 43,
   "id": "81eca579",
   "metadata": {},
   "outputs": [
    {
     "name": "stdout",
     "output_type": "stream",
     "text": [
      "root\n",
      " |-- value: string (nullable = true)\n",
      "\n"
     ]
    }
   ],
   "source": [
    "df_emotions.printSchema()\n"
   ]
  },
  {
   "cell_type": "code",
   "execution_count": 44,
   "id": "36d538ea",
   "metadata": {},
   "outputs": [],
   "source": [
    "schema_emotions = T.StructType(\n",
    "  [\n",
    "    T.StructField('inference_id', T.StringType(), True),\n",
    "    T.StructField('meeting_id', T.StringType(), True),\n",
    "    T.StructField('frame_no', T.StringType(), True),\n",
    "    T.StructField('emotion', T.StringType(), True)\n",
    "]\n",
    ")\n"
   ]
  },
  {
   "cell_type": "code",
   "execution_count": 45,
   "id": "835969b0",
   "metadata": {},
   "outputs": [],
   "source": [
    "mapped_df_emotions = df_emotions.withColumn(\"value\", F.from_json(\"value\", schema_emotions))\n"
   ]
  },
  {
   "cell_type": "code",
   "execution_count": 47,
   "id": "58c6ca1c",
   "metadata": {},
   "outputs": [
    {
     "name": "stdout",
     "output_type": "stream",
     "text": [
      "+-----------------------------------------------------------------------------------------------------------------------+\n",
      "|value                                                                                                                  |\n",
      "+-----------------------------------------------------------------------------------------------------------------------+\n",
      "|{f78dd9f4-beb6-4ab7-bc5f-e43674565c14, 10131, 1, {\"sad\":0,\"angry\":1,\"happy\":0,\"disgust\":1,\"neutral\":100,\"surprise\":1}} |\n",
      "|{f78dd9f4-beb6-4ab7-bc5f-e43674565c14, 10131, 2, {\"sad\":0,\"angry\":1,\"happy\":0,\"disgust\":0,\"neutral\":100,\"surprise\":1}} |\n",
      "|{f78dd9f4-beb6-4ab7-bc5f-e43674565c14, 10131, 3, {\"sad\":1,\"angry\":1,\"happy\":1,\"disgust\":0,\"neutral\":100,\"surprise\":0}} |\n",
      "|{f78dd9f4-beb6-4ab7-bc5f-e43674565c14, 10131, 4, {\"sad\":0,\"angry\":0,\"happy\":0,\"disgust\":1,\"neutral\":100,\"surprise\":0}} |\n",
      "|{f78dd9f4-beb6-4ab7-bc5f-e43674565c14, 10131, 5, {\"sad\":1,\"angry\":1,\"happy\":0,\"disgust\":0,\"neutral\":100,\"surprise\":1}} |\n",
      "|{f78dd9f4-beb6-4ab7-bc5f-e43674565c14, 10131, 6, {\"sad\":0,\"angry\":0,\"happy\":0,\"disgust\":0,\"neutral\":100,\"surprise\":1}} |\n",
      "|{f78dd9f4-beb6-4ab7-bc5f-e43674565c14, 10131, 7, {\"sad\":1,\"angry\":0,\"happy\":1,\"disgust\":1,\"neutral\":100,\"surprise\":1}} |\n",
      "|{f78dd9f4-beb6-4ab7-bc5f-e43674565c14, 10131, 8, {\"sad\":0,\"angry\":0,\"happy\":1,\"disgust\":1,\"neutral\":100,\"surprise\":1}} |\n",
      "|{f78dd9f4-beb6-4ab7-bc5f-e43674565c14, 10131, 9, {\"sad\":0,\"angry\":0,\"happy\":1,\"disgust\":1,\"neutral\":100,\"surprise\":1}} |\n",
      "|{f78dd9f4-beb6-4ab7-bc5f-e43674565c14, 10131, 10, {\"sad\":1,\"angry\":0,\"happy\":0,\"disgust\":1,\"neutral\":100,\"surprise\":0}}|\n",
      "|{f78dd9f4-beb6-4ab7-bc5f-e43674565c14, 10131, 11, {\"sad\":1,\"angry\":1,\"happy\":0,\"disgust\":0,\"neutral\":100,\"surprise\":1}}|\n",
      "|{f78dd9f4-beb6-4ab7-bc5f-e43674565c14, 10131, 12, {\"sad\":0,\"angry\":1,\"happy\":1,\"disgust\":1,\"neutral\":100,\"surprise\":0}}|\n",
      "|{f78dd9f4-beb6-4ab7-bc5f-e43674565c14, 10131, 13, {\"sad\":0,\"angry\":1,\"happy\":1,\"disgust\":0,\"neutral\":100,\"surprise\":1}}|\n",
      "|{f78dd9f4-beb6-4ab7-bc5f-e43674565c14, 10131, 14, {\"sad\":1,\"angry\":0,\"happy\":1,\"disgust\":46,\"neutral\":54,\"surprise\":0}}|\n",
      "|{f78dd9f4-beb6-4ab7-bc5f-e43674565c14, 10131, 15, {\"sad\":0,\"angry\":1,\"happy\":1,\"disgust\":84,\"neutral\":16,\"surprise\":1}}|\n",
      "|{f78dd9f4-beb6-4ab7-bc5f-e43674565c14, 10131, 16, {\"sad\":0,\"angry\":0,\"happy\":1,\"disgust\":84,\"neutral\":15,\"surprise\":1}}|\n",
      "|{f78dd9f4-beb6-4ab7-bc5f-e43674565c14, 10131, 17, {\"sad\":1,\"angry\":1,\"happy\":1,\"disgust\":84,\"neutral\":16,\"surprise\":0}}|\n",
      "|{f78dd9f4-beb6-4ab7-bc5f-e43674565c14, 10131, 18, {\"sad\":1,\"angry\":1,\"happy\":0,\"disgust\":96,\"neutral\":0,\"surprise\":1}} |\n",
      "|{f78dd9f4-beb6-4ab7-bc5f-e43674565c14, 10131, 19, {\"sad\":1,\"angry\":1,\"happy\":1,\"disgust\":100,\"neutral\":1,\"surprise\":1}}|\n",
      "|{f78dd9f4-beb6-4ab7-bc5f-e43674565c14, 10131, 20, {\"sad\":0,\"angry\":0,\"happy\":1,\"disgust\":100,\"neutral\":0,\"surprise\":0}}|\n",
      "+-----------------------------------------------------------------------------------------------------------------------+\n",
      "only showing top 20 rows\n",
      "\n"
     ]
    }
   ],
   "source": [
    "mapped_df_emotions.show(truncate=False)\n"
   ]
  },
  {
   "cell_type": "code",
   "execution_count": 48,
   "id": "0e524272",
   "metadata": {},
   "outputs": [
    {
     "name": "stdout",
     "output_type": "stream",
     "text": [
      "+------------------------------------+----------+--------+--------------------------------------------------------------------+\n",
      "|inference_id                        |meeting_id|frame_no|emotion                                                             |\n",
      "+------------------------------------+----------+--------+--------------------------------------------------------------------+\n",
      "|f78dd9f4-beb6-4ab7-bc5f-e43674565c14|10131     |1       |{\"sad\":0,\"angry\":1,\"happy\":0,\"disgust\":1,\"neutral\":100,\"surprise\":1}|\n",
      "|f78dd9f4-beb6-4ab7-bc5f-e43674565c14|10131     |2       |{\"sad\":0,\"angry\":1,\"happy\":0,\"disgust\":0,\"neutral\":100,\"surprise\":1}|\n",
      "|f78dd9f4-beb6-4ab7-bc5f-e43674565c14|10131     |3       |{\"sad\":1,\"angry\":1,\"happy\":1,\"disgust\":0,\"neutral\":100,\"surprise\":0}|\n",
      "|f78dd9f4-beb6-4ab7-bc5f-e43674565c14|10131     |4       |{\"sad\":0,\"angry\":0,\"happy\":0,\"disgust\":1,\"neutral\":100,\"surprise\":0}|\n",
      "|f78dd9f4-beb6-4ab7-bc5f-e43674565c14|10131     |5       |{\"sad\":1,\"angry\":1,\"happy\":0,\"disgust\":0,\"neutral\":100,\"surprise\":1}|\n",
      "|f78dd9f4-beb6-4ab7-bc5f-e43674565c14|10131     |6       |{\"sad\":0,\"angry\":0,\"happy\":0,\"disgust\":0,\"neutral\":100,\"surprise\":1}|\n",
      "|f78dd9f4-beb6-4ab7-bc5f-e43674565c14|10131     |7       |{\"sad\":1,\"angry\":0,\"happy\":1,\"disgust\":1,\"neutral\":100,\"surprise\":1}|\n",
      "|f78dd9f4-beb6-4ab7-bc5f-e43674565c14|10131     |8       |{\"sad\":0,\"angry\":0,\"happy\":1,\"disgust\":1,\"neutral\":100,\"surprise\":1}|\n",
      "|f78dd9f4-beb6-4ab7-bc5f-e43674565c14|10131     |9       |{\"sad\":0,\"angry\":0,\"happy\":1,\"disgust\":1,\"neutral\":100,\"surprise\":1}|\n",
      "|f78dd9f4-beb6-4ab7-bc5f-e43674565c14|10131     |10      |{\"sad\":1,\"angry\":0,\"happy\":0,\"disgust\":1,\"neutral\":100,\"surprise\":0}|\n",
      "|f78dd9f4-beb6-4ab7-bc5f-e43674565c14|10131     |11      |{\"sad\":1,\"angry\":1,\"happy\":0,\"disgust\":0,\"neutral\":100,\"surprise\":1}|\n",
      "|f78dd9f4-beb6-4ab7-bc5f-e43674565c14|10131     |12      |{\"sad\":0,\"angry\":1,\"happy\":1,\"disgust\":1,\"neutral\":100,\"surprise\":0}|\n",
      "|f78dd9f4-beb6-4ab7-bc5f-e43674565c14|10131     |13      |{\"sad\":0,\"angry\":1,\"happy\":1,\"disgust\":0,\"neutral\":100,\"surprise\":1}|\n",
      "|f78dd9f4-beb6-4ab7-bc5f-e43674565c14|10131     |14      |{\"sad\":1,\"angry\":0,\"happy\":1,\"disgust\":46,\"neutral\":54,\"surprise\":0}|\n",
      "|f78dd9f4-beb6-4ab7-bc5f-e43674565c14|10131     |15      |{\"sad\":0,\"angry\":1,\"happy\":1,\"disgust\":84,\"neutral\":16,\"surprise\":1}|\n",
      "|f78dd9f4-beb6-4ab7-bc5f-e43674565c14|10131     |16      |{\"sad\":0,\"angry\":0,\"happy\":1,\"disgust\":84,\"neutral\":15,\"surprise\":1}|\n",
      "|f78dd9f4-beb6-4ab7-bc5f-e43674565c14|10131     |17      |{\"sad\":1,\"angry\":1,\"happy\":1,\"disgust\":84,\"neutral\":16,\"surprise\":0}|\n",
      "|f78dd9f4-beb6-4ab7-bc5f-e43674565c14|10131     |18      |{\"sad\":1,\"angry\":1,\"happy\":0,\"disgust\":96,\"neutral\":0,\"surprise\":1} |\n",
      "|f78dd9f4-beb6-4ab7-bc5f-e43674565c14|10131     |19      |{\"sad\":1,\"angry\":1,\"happy\":1,\"disgust\":100,\"neutral\":1,\"surprise\":1}|\n",
      "|f78dd9f4-beb6-4ab7-bc5f-e43674565c14|10131     |20      |{\"sad\":0,\"angry\":0,\"happy\":1,\"disgust\":100,\"neutral\":0,\"surprise\":0}|\n",
      "+------------------------------------+----------+--------+--------------------------------------------------------------------+\n",
      "only showing top 20 rows\n",
      "\n",
      "root\n",
      " |-- inference_id: string (nullable = true)\n",
      " |-- meeting_id: string (nullable = true)\n",
      " |-- frame_no: string (nullable = true)\n",
      " |-- emotion: string (nullable = true)\n",
      "\n"
     ]
    }
   ],
   "source": [
    "parsed_df_emotions = mapped_df_emotions.select(F.col(\"value.*\"))\n",
    "parsed_df_emotions.show(truncate=False)\n",
    "parsed_df_emotions.printSchema()\n"
   ]
  },
  {
   "cell_type": "code",
   "execution_count": 49,
   "id": "a9422397",
   "metadata": {},
   "outputs": [],
   "source": [
    "# First identify the subject frames from ocr file. If the actual_subject_name and ocr_name\n",
    "# column values are same then that frame number is the subject's frame number."
   ]
  },
  {
   "cell_type": "code",
   "execution_count": 51,
   "id": "a478eb36",
   "metadata": {},
   "outputs": [
    {
     "data": {
      "text/plain": [
       "[Row(value=Row(inference_id='f78dd9f4-beb6-4ab7-bc5f-e43674565c14', actual_subject_name='Holden', meeting_id='10131', ocr_name='Holden', video_fps='25', frame_no='1')),\n",
       " Row(value=Row(inference_id='f78dd9f4-beb6-4ab7-bc5f-e43674565c14', actual_subject_name='Holden', meeting_id='10131', ocr_name='Holden', video_fps='25', frame_no='2')),\n",
       " Row(value=Row(inference_id='f78dd9f4-beb6-4ab7-bc5f-e43674565c14', actual_subject_name='Holden', meeting_id='10131', ocr_name='Holden', video_fps='25', frame_no='3')),\n",
       " Row(value=Row(inference_id='f78dd9f4-beb6-4ab7-bc5f-e43674565c14', actual_subject_name='Holden', meeting_id='10131', ocr_name='Holden', video_fps='25', frame_no='4')),\n",
       " Row(value=Row(inference_id='f78dd9f4-beb6-4ab7-bc5f-e43674565c14', actual_subject_name='Holden', meeting_id='10131', ocr_name='Senior Partner', video_fps='25', frame_no='5')),\n",
       " Row(value=Row(inference_id='f78dd9f4-beb6-4ab7-bc5f-e43674565c14', actual_subject_name='Holden', meeting_id='10131', ocr_name='Senior Partner', video_fps='25', frame_no='6')),\n",
       " Row(value=Row(inference_id='f78dd9f4-beb6-4ab7-bc5f-e43674565c14', actual_subject_name='Holden', meeting_id='10131', ocr_name='Senior Partner', video_fps='25', frame_no='7')),\n",
       " Row(value=Row(inference_id='f78dd9f4-beb6-4ab7-bc5f-e43674565c14', actual_subject_name='Holden', meeting_id='10131', ocr_name='Senior Partner', video_fps='25', frame_no='8')),\n",
       " Row(value=Row(inference_id='f78dd9f4-beb6-4ab7-bc5f-e43674565c14', actual_subject_name='Holden', meeting_id='10131', ocr_name='Senior Partner', video_fps='25', frame_no='9')),\n",
       " Row(value=Row(inference_id='f78dd9f4-beb6-4ab7-bc5f-e43674565c14', actual_subject_name='Holden', meeting_id='10131', ocr_name='Senior Partner', video_fps='25', frame_no='10'))]"
      ]
     },
     "execution_count": 51,
     "metadata": {},
     "output_type": "execute_result"
    }
   ],
   "source": [
    "mapped_df_ocr.head(10)\n"
   ]
  },
  {
   "cell_type": "code",
   "execution_count": null,
   "id": "f5e47c85",
   "metadata": {},
   "outputs": [],
   "source": [
    "# mapped_df_ocr['subject_frame_no']=mapped_df_ocr.apply(lambda x:x['frame_no'] if x['actual_subject_name']=x['ocr_name'] else null,axis=1)"
   ]
  },
  {
   "cell_type": "code",
   "execution_count": 58,
   "id": "04655229",
   "metadata": {},
   "outputs": [],
   "source": [
    "from pyspark.sql.functions import when, col, lit\n",
    "parsed_df_ocr = parsed_df_ocr.withColumn(\n",
    "    'subject_frame_no',\n",
    "    when(col('actual_subject_name') == col('ocr_name'), col('frame_no'))\n",
    "    .otherwise(lit(None))\n",
    ")\n"
   ]
  },
  {
   "cell_type": "code",
   "execution_count": 59,
   "id": "d778cfed",
   "metadata": {},
   "outputs": [
    {
     "name": "stdout",
     "output_type": "stream",
     "text": [
      "+--------------------+-------------------+----------+--------------+---------+--------+----------------+\n",
      "|        inference_id|actual_subject_name|meeting_id|      ocr_name|video_fps|frame_no|subject_frame_no|\n",
      "+--------------------+-------------------+----------+--------------+---------+--------+----------------+\n",
      "|f78dd9f4-beb6-4ab...|             Holden|     10131|        Holden|       25|       1|               1|\n",
      "|f78dd9f4-beb6-4ab...|             Holden|     10131|        Holden|       25|       2|               2|\n",
      "|f78dd9f4-beb6-4ab...|             Holden|     10131|        Holden|       25|       3|               3|\n",
      "|f78dd9f4-beb6-4ab...|             Holden|     10131|        Holden|       25|       4|               4|\n",
      "|f78dd9f4-beb6-4ab...|             Holden|     10131|Senior Partner|       25|       5|            null|\n",
      "|f78dd9f4-beb6-4ab...|             Holden|     10131|Senior Partner|       25|       6|            null|\n",
      "|f78dd9f4-beb6-4ab...|             Holden|     10131|Senior Partner|       25|       7|            null|\n",
      "|f78dd9f4-beb6-4ab...|             Holden|     10131|Senior Partner|       25|       8|            null|\n",
      "|f78dd9f4-beb6-4ab...|             Holden|     10131|Senior Partner|       25|       9|            null|\n",
      "|f78dd9f4-beb6-4ab...|             Holden|     10131|Senior Partner|       25|      10|            null|\n",
      "|f78dd9f4-beb6-4ab...|             Holden|     10131|Senior Partner|       25|      11|            null|\n",
      "|f78dd9f4-beb6-4ab...|             Holden|     10131|Senior Partner|       25|      12|            null|\n",
      "|f78dd9f4-beb6-4ab...|             Holden|     10131|Senior Partner|       25|      13|            null|\n",
      "|f78dd9f4-beb6-4ab...|             Holden|     10131|Senior Partner|       25|      14|            null|\n",
      "|f78dd9f4-beb6-4ab...|             Holden|     10131|Senior Partner|       25|      15|            null|\n",
      "|f78dd9f4-beb6-4ab...|             Holden|     10131|Senior Partner|       25|      16|            null|\n",
      "|f78dd9f4-beb6-4ab...|             Holden|     10131|Senior Partner|       25|      17|            null|\n",
      "|f78dd9f4-beb6-4ab...|             Holden|     10131|Senior Partner|       25|      18|            null|\n",
      "|f78dd9f4-beb6-4ab...|             Holden|     10131|Senior Partner|       25|      19|            null|\n",
      "|f78dd9f4-beb6-4ab...|             Holden|     10131|Senior Partner|       25|      20|            null|\n",
      "+--------------------+-------------------+----------+--------------+---------+--------+----------------+\n",
      "only showing top 20 rows\n",
      "\n"
     ]
    }
   ],
   "source": [
    "parsed_df_ocr.show()"
   ]
  },
  {
   "cell_type": "code",
   "execution_count": null,
   "id": "b4181cfb",
   "metadata": {},
   "outputs": [],
   "source": [
    "# left join emotions data on ocr data\n"
   ]
  },
  {
   "cell_type": "code",
   "execution_count": null,
   "id": "082687a5",
   "metadata": {},
   "outputs": [],
   "source": [
    "# subject_emotion_df=emotions_df.merge(how='left',left_on=['inference_id','meeting_id','frame_no'],right_on=['inference_id','meeting_id','subject_frame_no'])"
   ]
  },
  {
   "cell_type": "code",
   "execution_count": 62,
   "id": "7e389d89",
   "metadata": {},
   "outputs": [],
   "source": [
    "emotions_df_alias = parsed_df_emotions.alias('emotions')\n",
    "ocr_df_alias = parsed_df_ocr.alias('ocr')\n",
    "\n",
    "\n",
    "\n",
    "subject_emotion_df = emotions_df_alias.join(\n",
    "    other=ocr_df_alias,\n",
    "    on=[\n",
    "        col('emotions.inference_id') == col('ocr.inference_id'),\n",
    "        col('emotions.meeting_id') == col('ocr.meeting_id'),\n",
    "        col('emotions.frame_no') == col('ocr.subject_frame_no')\n",
    "    ],\n",
    "    how='left'\n",
    ")"
   ]
  },
  {
   "cell_type": "code",
   "execution_count": 89,
   "id": "d1417855",
   "metadata": {},
   "outputs": [],
   "source": [
    "# parsed_df_emotions.columns\n",
    "# result_df = subject_emotion_df.select(emotions_df_alias.columns + [col('ocr.subject_frame_no')])\n",
    "result_df = subject_emotion_df.select(['emotions.inference_id','emotions.meeting_id','emotions.frame_no','emotions.emotion','ocr.subject_frame_no','video_fps'])\n",
    "# emotions_df_alias.columns"
   ]
  },
  {
   "cell_type": "code",
   "execution_count": 90,
   "id": "40c3ca22",
   "metadata": {},
   "outputs": [
    {
     "name": "stdout",
     "output_type": "stream",
     "text": [
      "+--------------------+----------+--------+--------------------+----------------+---------+\n",
      "|        inference_id|meeting_id|frame_no|             emotion|subject_frame_no|video_fps|\n",
      "+--------------------+----------+--------+--------------------+----------------+---------+\n",
      "|f78dd9f4-beb6-4ab...|     10131|       1|{\"sad\":0,\"angry\":...|               1|       25|\n",
      "|f78dd9f4-beb6-4ab...|     10131|      10|{\"sad\":1,\"angry\":...|            null|     null|\n",
      "|f78dd9f4-beb6-4ab...|     10131|      11|{\"sad\":1,\"angry\":...|            null|     null|\n",
      "|f78dd9f4-beb6-4ab...|     10131|      12|{\"sad\":0,\"angry\":...|            null|     null|\n",
      "|f78dd9f4-beb6-4ab...|     10131|      13|{\"sad\":0,\"angry\":...|            null|     null|\n",
      "|f78dd9f4-beb6-4ab...|     10131|      14|{\"sad\":1,\"angry\":...|            null|     null|\n",
      "|f78dd9f4-beb6-4ab...|     10131|      15|{\"sad\":0,\"angry\":...|            null|     null|\n",
      "|f78dd9f4-beb6-4ab...|     10131|      16|{\"sad\":0,\"angry\":...|            null|     null|\n",
      "|f78dd9f4-beb6-4ab...|     10131|      17|{\"sad\":1,\"angry\":...|            null|     null|\n",
      "|f78dd9f4-beb6-4ab...|     10131|      18|{\"sad\":1,\"angry\":...|            null|     null|\n",
      "|f78dd9f4-beb6-4ab...|     10131|      19|{\"sad\":1,\"angry\":...|            null|     null|\n",
      "|f78dd9f4-beb6-4ab...|     10131|       2|{\"sad\":0,\"angry\":...|               2|       25|\n",
      "|f78dd9f4-beb6-4ab...|     10131|      20|{\"sad\":0,\"angry\":...|            null|     null|\n",
      "|f78dd9f4-beb6-4ab...|     10131|   20132|{\"sad\":1,\"angry\":...|            null|     null|\n",
      "|f78dd9f4-beb6-4ab...|     10131|   20133|{\"sad\":0,\"angry\":...|            null|     null|\n",
      "|f78dd9f4-beb6-4ab...|     10131|   20134|{\"sad\":1,\"angry\":...|            null|     null|\n",
      "|f78dd9f4-beb6-4ab...|     10131|   20135|{\"sad\":1,\"angry\":...|            null|     null|\n",
      "|f78dd9f4-beb6-4ab...|     10131|   20136|{\"sad\":1,\"angry\":...|            null|     null|\n",
      "|f78dd9f4-beb6-4ab...|     10131|   20137|{\"sad\":1,\"angry\":...|            null|     null|\n",
      "|f78dd9f4-beb6-4ab...|     10131|   20138|{\"sad\":0,\"angry\":...|            null|     null|\n",
      "+--------------------+----------+--------+--------------------+----------------+---------+\n",
      "only showing top 20 rows\n",
      "\n"
     ]
    }
   ],
   "source": [
    "result_df.show()"
   ]
  },
  {
   "cell_type": "code",
   "execution_count": null,
   "id": "4cdd6da6",
   "metadata": {},
   "outputs": [],
   "source": [
    "# result_df['new_emotion']=result_df.apply(lambda x:{\"sad\":0,\"angry\": 0,\"happy\": 0,\"disgust\": 0,\"neutral\": 0,\"surprise\": 0} if x['subject_frame_no'] is null else x['emotion'],axis=1)"
   ]
  },
  {
   "cell_type": "code",
   "execution_count": 93,
   "id": "78c57da8",
   "metadata": {},
   "outputs": [],
   "source": [
    "from pyspark.sql.functions import when, col, lit\n",
    "\n",
    "result_df = result_df.withColumn(\n",
    "    \"new_emotion\",\n",
    "    when(col(\"subject_frame_no\").isNull(), lit('{\"sad\":0,\"angry\": 0,\"happy\": 0,\"disgust\": 0,\"neutral\": 0,\"surprise\": 0}'))\n",
    "    .otherwise(col(\"emotion\"))\n",
    ")\n"
   ]
  },
  {
   "cell_type": "code",
   "execution_count": 92,
   "id": "a35c4bfc",
   "metadata": {},
   "outputs": [
    {
     "name": "stdout",
     "output_type": "stream",
     "text": [
      "+--------------------+----------+--------+--------------------+----------------+---------+--------------------+\n",
      "|        inference_id|meeting_id|frame_no|             emotion|subject_frame_no|video_fps|         new_emotion|\n",
      "+--------------------+----------+--------+--------------------+----------------+---------+--------------------+\n",
      "|f78dd9f4-beb6-4ab...|     10131|       1|{\"sad\":0,\"angry\":...|               1|       25|{\"sad\":0,\"angry\":...|\n",
      "|f78dd9f4-beb6-4ab...|     10131|      10|{\"sad\":1,\"angry\":...|            null|     null|{\"sad\":0,\"angry\":...|\n",
      "|f78dd9f4-beb6-4ab...|     10131|      11|{\"sad\":1,\"angry\":...|            null|     null|{\"sad\":0,\"angry\":...|\n",
      "|f78dd9f4-beb6-4ab...|     10131|      12|{\"sad\":0,\"angry\":...|            null|     null|{\"sad\":0,\"angry\":...|\n",
      "|f78dd9f4-beb6-4ab...|     10131|      13|{\"sad\":0,\"angry\":...|            null|     null|{\"sad\":0,\"angry\":...|\n",
      "|f78dd9f4-beb6-4ab...|     10131|      14|{\"sad\":1,\"angry\":...|            null|     null|{\"sad\":0,\"angry\":...|\n",
      "|f78dd9f4-beb6-4ab...|     10131|      15|{\"sad\":0,\"angry\":...|            null|     null|{\"sad\":0,\"angry\":...|\n",
      "|f78dd9f4-beb6-4ab...|     10131|      16|{\"sad\":0,\"angry\":...|            null|     null|{\"sad\":0,\"angry\":...|\n",
      "|f78dd9f4-beb6-4ab...|     10131|      17|{\"sad\":1,\"angry\":...|            null|     null|{\"sad\":0,\"angry\":...|\n",
      "|f78dd9f4-beb6-4ab...|     10131|      18|{\"sad\":1,\"angry\":...|            null|     null|{\"sad\":0,\"angry\":...|\n",
      "|f78dd9f4-beb6-4ab...|     10131|      19|{\"sad\":1,\"angry\":...|            null|     null|{\"sad\":0,\"angry\":...|\n",
      "|f78dd9f4-beb6-4ab...|     10131|       2|{\"sad\":0,\"angry\":...|               2|       25|{\"sad\":0,\"angry\":...|\n",
      "|f78dd9f4-beb6-4ab...|     10131|      20|{\"sad\":0,\"angry\":...|            null|     null|{\"sad\":0,\"angry\":...|\n",
      "|f78dd9f4-beb6-4ab...|     10131|   20132|{\"sad\":1,\"angry\":...|            null|     null|{\"sad\":0,\"angry\":...|\n",
      "|f78dd9f4-beb6-4ab...|     10131|   20133|{\"sad\":0,\"angry\":...|            null|     null|{\"sad\":0,\"angry\":...|\n",
      "|f78dd9f4-beb6-4ab...|     10131|   20134|{\"sad\":1,\"angry\":...|            null|     null|{\"sad\":0,\"angry\":...|\n",
      "|f78dd9f4-beb6-4ab...|     10131|   20135|{\"sad\":1,\"angry\":...|            null|     null|{\"sad\":0,\"angry\":...|\n",
      "|f78dd9f4-beb6-4ab...|     10131|   20136|{\"sad\":1,\"angry\":...|            null|     null|{\"sad\":0,\"angry\":...|\n",
      "|f78dd9f4-beb6-4ab...|     10131|   20137|{\"sad\":1,\"angry\":...|            null|     null|{\"sad\":0,\"angry\":...|\n",
      "|f78dd9f4-beb6-4ab...|     10131|   20138|{\"sad\":0,\"angry\":...|            null|     null|{\"sad\":0,\"angry\":...|\n",
      "+--------------------+----------+--------+--------------------+----------------+---------+--------------------+\n",
      "only showing top 20 rows\n",
      "\n"
     ]
    }
   ],
   "source": [
    "result_df.show()"
   ]
  },
  {
   "cell_type": "code",
   "execution_count": 96,
   "id": "825dc9c8",
   "metadata": {},
   "outputs": [],
   "source": [
    "# df = result_df.withColumn(\"sad_emotion\", col(\"new_emotion\").getItem(\"sad\"))\n",
    "\n",
    "from pyspark.sql.functions import from_json, col\n",
    "from pyspark.sql.types import StructType, StructField, IntegerType\n",
    "\n",
    "# Define the schema for the new_emotion column\n",
    "schema_emotions_json = StructType([\n",
    "    StructField(\"sad\", IntegerType()),\n",
    "    StructField(\"angry\", IntegerType()),\n",
    "    StructField(\"happy\", IntegerType()),\n",
    "    StructField(\"disgust\", IntegerType()),\n",
    "    StructField(\"neutral\", IntegerType()),\n",
    "    StructField(\"surprise\", IntegerType())\n",
    "])\n",
    "\n"
   ]
  },
  {
   "cell_type": "code",
   "execution_count": 101,
   "id": "39a95654",
   "metadata": {},
   "outputs": [],
   "source": [
    "modified_df = result_df.withColumn(\"new_emotion_struct\", from_json(col(\"new_emotion\"), schema_emotions_json))\n"
   ]
  },
  {
   "cell_type": "code",
   "execution_count": 109,
   "id": "4b3928f2",
   "metadata": {},
   "outputs": [],
   "source": [
    "from pyspark.sql.functions import avg\n",
    "\n",
    "mean_df = modified_df.groupBy(\"inference_id\", \"meeting_id\") \\\n",
    "    .agg(avg(\"new_emotion_struct.sad\").alias(\"sad\"), avg(\"new_emotion_struct.angry\").alias(\"angry\"),\n",
    "         avg(\"new_emotion_struct.happy\").alias(\"happy\"), avg(\"new_emotion_struct.disgust\").alias(\"disgust\"),\n",
    "         avg(\"new_emotion_struct.neutral\").alias(\"neutral\"), avg(\"new_emotion_struct.surprise\").alias(\"surprise\"))\n"
   ]
  },
  {
   "cell_type": "code",
   "execution_count": 110,
   "id": "20c6405e",
   "metadata": {},
   "outputs": [
    {
     "name": "stdout",
     "output_type": "stream",
     "text": [
      "+--------------------+----------+-------------------+------------------+-------------------+------------------+------------------+-------------------+\n",
      "|        inference_id|meeting_id|                sad|             angry|              happy|           disgust|           neutral|           surprise|\n",
      "+--------------------+----------+-------------------+------------------+-------------------+------------------+------------------+-------------------+\n",
      "|f78dd9f4-beb6-4ab...|     10131|0.19673357758398266|0.6436864647298622|0.22284431601217813|0.5320965994117344|37.593271066618506|0.19727540120749265|\n",
      "+--------------------+----------+-------------------+------------------+-------------------+------------------+------------------+-------------------+\n",
      "\n"
     ]
    }
   ],
   "source": [
    "mean_df.show()"
   ]
  },
  {
   "cell_type": "code",
   "execution_count": 113,
   "id": "f8fc1a49",
   "metadata": {},
   "outputs": [],
   "source": [
    "output_df = result_df.select(['emotions.inference_id','emotions.meeting_id','emotions.frame_no','emotions.emotion','ocr.subject_frame_no','video_fps','new_emotion'])\n"
   ]
  },
  {
   "cell_type": "code",
   "execution_count": 125,
   "id": "81c746b2",
   "metadata": {},
   "outputs": [],
   "source": [
    "# output_df.write.mode(\"overwrite\").option(\"quote\", \"\\\"\").option(\"escape\", \"\\\"\").option(\"header\", \"true\").csv(\"output_file.csv\")\n",
    "output_df.write.format(\"csv\").option(\"header\", \"true\").option(\"quote\", \"\\\"\").option(\"escape\", \"\\\"\").mode(\"overwrite\").save(\"new_output_file.csv\")\n"
   ]
  },
  {
   "cell_type": "code",
   "execution_count": 120,
   "id": "89a6d9fe",
   "metadata": {},
   "outputs": [
    {
     "name": "stdout",
     "output_type": "stream",
     "text": [
      "+--------------------+----------+--------+--------------------+----------------+---------+--------------------+\n",
      "|        inference_id|meeting_id|frame_no|             emotion|subject_frame_no|video_fps|         new_emotion|\n",
      "+--------------------+----------+--------+--------------------+----------------+---------+--------------------+\n",
      "|f78dd9f4-beb6-4ab...|     10131|       1|{\"sad\":0,\"angry\":...|               1|       25|{\"sad\":0,\"angry\":...|\n",
      "|f78dd9f4-beb6-4ab...|     10131|      10|{\"sad\":1,\"angry\":...|            null|     null|{\"sad\":0,\"angry\":...|\n",
      "|f78dd9f4-beb6-4ab...|     10131|      11|{\"sad\":1,\"angry\":...|            null|     null|{\"sad\":0,\"angry\":...|\n",
      "|f78dd9f4-beb6-4ab...|     10131|      12|{\"sad\":0,\"angry\":...|            null|     null|{\"sad\":0,\"angry\":...|\n",
      "|f78dd9f4-beb6-4ab...|     10131|      13|{\"sad\":0,\"angry\":...|            null|     null|{\"sad\":0,\"angry\":...|\n",
      "|f78dd9f4-beb6-4ab...|     10131|      14|{\"sad\":1,\"angry\":...|            null|     null|{\"sad\":0,\"angry\":...|\n",
      "|f78dd9f4-beb6-4ab...|     10131|      15|{\"sad\":0,\"angry\":...|            null|     null|{\"sad\":0,\"angry\":...|\n",
      "|f78dd9f4-beb6-4ab...|     10131|      16|{\"sad\":0,\"angry\":...|            null|     null|{\"sad\":0,\"angry\":...|\n",
      "|f78dd9f4-beb6-4ab...|     10131|      17|{\"sad\":1,\"angry\":...|            null|     null|{\"sad\":0,\"angry\":...|\n",
      "|f78dd9f4-beb6-4ab...|     10131|      18|{\"sad\":1,\"angry\":...|            null|     null|{\"sad\":0,\"angry\":...|\n",
      "|f78dd9f4-beb6-4ab...|     10131|      19|{\"sad\":1,\"angry\":...|            null|     null|{\"sad\":0,\"angry\":...|\n",
      "|f78dd9f4-beb6-4ab...|     10131|       2|{\"sad\":0,\"angry\":...|               2|       25|{\"sad\":0,\"angry\":...|\n",
      "|f78dd9f4-beb6-4ab...|     10131|      20|{\"sad\":0,\"angry\":...|            null|     null|{\"sad\":0,\"angry\":...|\n",
      "|f78dd9f4-beb6-4ab...|     10131|   20132|{\"sad\":1,\"angry\":...|            null|     null|{\"sad\":0,\"angry\":...|\n",
      "|f78dd9f4-beb6-4ab...|     10131|   20133|{\"sad\":0,\"angry\":...|            null|     null|{\"sad\":0,\"angry\":...|\n",
      "|f78dd9f4-beb6-4ab...|     10131|   20134|{\"sad\":1,\"angry\":...|            null|     null|{\"sad\":0,\"angry\":...|\n",
      "|f78dd9f4-beb6-4ab...|     10131|   20135|{\"sad\":1,\"angry\":...|            null|     null|{\"sad\":0,\"angry\":...|\n",
      "|f78dd9f4-beb6-4ab...|     10131|   20136|{\"sad\":1,\"angry\":...|            null|     null|{\"sad\":0,\"angry\":...|\n",
      "|f78dd9f4-beb6-4ab...|     10131|   20137|{\"sad\":1,\"angry\":...|            null|     null|{\"sad\":0,\"angry\":...|\n",
      "|f78dd9f4-beb6-4ab...|     10131|   20138|{\"sad\":0,\"angry\":...|            null|     null|{\"sad\":0,\"angry\":...|\n",
      "+--------------------+----------+--------+--------------------+----------------+---------+--------------------+\n",
      "only showing top 20 rows\n",
      "\n"
     ]
    }
   ],
   "source": [
    "output_df.show()"
   ]
  },
  {
   "cell_type": "code",
   "execution_count": null,
   "id": "2f8d43ea",
   "metadata": {},
   "outputs": [],
   "source": []
  }
 ],
 "metadata": {
  "kernelspec": {
   "display_name": "Python 3 (ipykernel)",
   "language": "python",
   "name": "python3"
  },
  "language_info": {
   "codemirror_mode": {
    "name": "ipython",
    "version": 3
   },
   "file_extension": ".py",
   "mimetype": "text/x-python",
   "name": "python",
   "nbconvert_exporter": "python",
   "pygments_lexer": "ipython3",
   "version": "3.7.9"
  }
 },
 "nbformat": 4,
 "nbformat_minor": 5
}
